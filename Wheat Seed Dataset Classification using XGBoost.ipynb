{
 "cells": [
  {
   "cell_type": "markdown",
   "metadata": {},
   "source": [
    "<h1><center>Arunaggiri Pandian Karunanidhi</center></h1>"
   ]
  },
  {
   "cell_type": "markdown",
   "metadata": {},
   "source": [
    "### Question - 3\n",
    "#### H. EXTRA CREDIT (5 points): Using gradient boosting decision trees with R's xgboost library, generate a machine learning model for the wheat seed classification based on the features provided in the data. Generate a confusion matrix for the test data set to demonstrate the accuracy of the model. Based on your model, classify the beans provided in the unlabeled wheat-unknown.csv data set. Indicate which classification has been assigned to each of the unlabeled seeds. How do the results with xgboost compare to the support vector machine model?"
   ]
  },
  {
   "cell_type": "code",
   "execution_count": 1,
   "metadata": {},
   "outputs": [],
   "source": [
    "df = read.csv(\"/public/bmort/R/wheat.csv\")"
   ]
  },
  {
   "cell_type": "code",
   "execution_count": 2,
   "metadata": {},
   "outputs": [],
   "source": [
    "# finding mode value\n",
    "\n",
    "find_mode <- function(x) {\n",
    "  u <- unique(x)\n",
    "  tab <- tabulate(match(x, u))\n",
    "  u[tab == max(tab)]\n",
    "}\n",
    "\n",
    "mode_val = find_mode(df$width)"
   ]
  },
  {
   "cell_type": "code",
   "execution_count": 3,
   "metadata": {},
   "outputs": [],
   "source": [
    "# replacing null value with mode value\n",
    "\n",
    "# which(is.na(df$width))\n",
    "df$width[8] = mode_val"
   ]
  },
  {
   "cell_type": "code",
   "execution_count": 4,
   "metadata": {},
   "outputs": [
    {
     "data": {
      "text/html": [
       "<dl class=dl-horizontal>\n",
       "\t<dt>area</dt>\n",
       "\t\t<dd>0</dd>\n",
       "\t<dt>perimeter</dt>\n",
       "\t\t<dd>0</dd>\n",
       "\t<dt>compactness</dt>\n",
       "\t\t<dd>0</dd>\n",
       "\t<dt>length</dt>\n",
       "\t\t<dd>0</dd>\n",
       "\t<dt>width</dt>\n",
       "\t\t<dd>0</dd>\n",
       "\t<dt>asymmetry</dt>\n",
       "\t\t<dd>0</dd>\n",
       "\t<dt>groove</dt>\n",
       "\t\t<dd>0</dd>\n",
       "\t<dt>type</dt>\n",
       "\t\t<dd>0</dd>\n",
       "</dl>\n"
      ],
      "text/latex": [
       "\\begin{description*}\n",
       "\\item[area] 0\n",
       "\\item[perimeter] 0\n",
       "\\item[compactness] 0\n",
       "\\item[length] 0\n",
       "\\item[width] 0\n",
       "\\item[asymmetry] 0\n",
       "\\item[groove] 0\n",
       "\\item[type] 0\n",
       "\\end{description*}\n"
      ],
      "text/markdown": [
       "area\n",
       ":   0perimeter\n",
       ":   0compactness\n",
       ":   0length\n",
       ":   0width\n",
       ":   0asymmetry\n",
       ":   0groove\n",
       ":   0type\n",
       ":   0\n",
       "\n"
      ],
      "text/plain": [
       "       area   perimeter compactness      length       width   asymmetry \n",
       "          0           0           0           0           0           0 \n",
       "     groove        type \n",
       "          0           0 "
      ]
     },
     "metadata": {},
     "output_type": "display_data"
    }
   ],
   "source": [
    "sapply(df, function(x) sum(is.na(x)))"
   ]
  },
  {
   "cell_type": "code",
   "execution_count": 5,
   "metadata": {},
   "outputs": [],
   "source": [
    "# normalize data\n",
    "\n",
    "normalize <- function(x) {\n",
    "return ((x - min(x)) / (max(x) - min(x)))\n",
    "}\n",
    "\n",
    "df$area = normalize(df$area)\n",
    "df$perimeter = normalize(df$perimeter)\n",
    "df$length = normalize(df$length)\n",
    "df$width = normalize(df$width)\n",
    "df$asymmetry = normalize(df$asymmetry)\n",
    "df$groove = normalize(df$groove)\n",
    "df$compactness = normalize(df$compactness)"
   ]
  },
  {
   "cell_type": "code",
   "execution_count": 6,
   "metadata": {},
   "outputs": [
    {
     "data": {
      "text/plain": [
       "      area          perimeter       compactness         length      \n",
       " Min.   :0.0000   Min.   :0.0000   Min.   :0.0000   Min.   :0.0000  \n",
       " 1st Qu.:0.1688   1st Qu.:0.2190   1st Qu.:0.4555   1st Qu.:0.2017  \n",
       " Median :0.3602   Median :0.4070   Median :0.6025   Median :0.3575  \n",
       " Mean   :0.4112   Mean   :0.4524   Mean   :0.5804   Mean   :0.4164  \n",
       " 3rd Qu.:0.6438   3rd Qu.:0.6968   3rd Qu.:0.7244   3rd Qu.:0.6249  \n",
       " Max.   :1.0000   Max.   :1.0000   Max.   :1.0000   Max.   :1.0000  \n",
       "     width          asymmetry          groove       type  \n",
       " Min.   :0.0000   Min.   :0.0000   Min.   :0.0000   A:68  \n",
       " 1st Qu.:0.2324   1st Qu.:0.2247   1st Qu.:0.2578   B:69  \n",
       " Median :0.4324   Median :0.3675   Median :0.3481   C:63  \n",
       " Mean   :0.4528   Mean   :0.3768   Mean   :0.4408         \n",
       " 3rd Qu.:0.6627   3rd Qu.:0.5122   3rd Qu.:0.6696         \n",
       " Max.   :1.0000   Max.   :1.0000   Max.   :1.0000         "
      ]
     },
     "metadata": {},
     "output_type": "display_data"
    }
   ],
   "source": [
    "summary(df)"
   ]
  },
  {
   "cell_type": "code",
   "execution_count": 7,
   "metadata": {},
   "outputs": [],
   "source": [
    "# Replacing outlier values with NaN values\n",
    "\n",
    "for (x in c('compactness','asymmetry'))\n",
    "{\n",
    "  value = df[,x][df[,x] %in% boxplot.stats(df[,x])$out]\n",
    "  df[,x][df[,x] %in% value] = NA\n",
    "} "
   ]
  },
  {
   "cell_type": "code",
   "execution_count": 8,
   "metadata": {},
   "outputs": [
    {
     "data": {
      "text/html": [
       "<table>\n",
       "<caption>A data.frame: 8 × 1</caption>\n",
       "<thead>\n",
       "\t<tr><th></th><th scope=col>colSums(is.na(df))</th></tr>\n",
       "\t<tr><th></th><th scope=col>&lt;dbl&gt;</th></tr>\n",
       "</thead>\n",
       "<tbody>\n",
       "\t<tr><th scope=row>area</th><td>0</td></tr>\n",
       "\t<tr><th scope=row>perimeter</th><td>0</td></tr>\n",
       "\t<tr><th scope=row>compactness</th><td>0</td></tr>\n",
       "\t<tr><th scope=row>length</th><td>0</td></tr>\n",
       "\t<tr><th scope=row>width</th><td>0</td></tr>\n",
       "\t<tr><th scope=row>asymmetry</th><td>0</td></tr>\n",
       "\t<tr><th scope=row>groove</th><td>0</td></tr>\n",
       "\t<tr><th scope=row>type</th><td>0</td></tr>\n",
       "</tbody>\n",
       "</table>\n"
      ],
      "text/latex": [
       "A data.frame: 8 × 1\n",
       "\\begin{tabular}{r|l}\n",
       "  & colSums(is.na(df))\\\\\n",
       "  & <dbl>\\\\\n",
       "\\hline\n",
       "\tarea & 0\\\\\n",
       "\tperimeter & 0\\\\\n",
       "\tcompactness & 0\\\\\n",
       "\tlength & 0\\\\\n",
       "\twidth & 0\\\\\n",
       "\tasymmetry & 0\\\\\n",
       "\tgroove & 0\\\\\n",
       "\ttype & 0\\\\\n",
       "\\end{tabular}\n"
      ],
      "text/markdown": [
       "\n",
       "A data.frame: 8 × 1\n",
       "\n",
       "| <!--/--> | colSums(is.na(df)) &lt;dbl&gt; |\n",
       "|---|---|\n",
       "| area | 0 |\n",
       "| perimeter | 0 |\n",
       "| compactness | 0 |\n",
       "| length | 0 |\n",
       "| width | 0 |\n",
       "| asymmetry | 0 |\n",
       "| groove | 0 |\n",
       "| type | 0 |\n",
       "\n"
      ],
      "text/plain": [
       "            colSums(is.na(df))\n",
       "area        0                 \n",
       "perimeter   0                 \n",
       "compactness 0                 \n",
       "length      0                 \n",
       "width       0                 \n",
       "asymmetry   0                 \n",
       "groove      0                 \n",
       "type        0                 "
      ]
     },
     "metadata": {},
     "output_type": "display_data"
    }
   ],
   "source": [
    "# now let's remove the rows that has null values\n",
    "\n",
    "#Removing the null values\n",
    "\n",
    "library(tidyr)\n",
    "df = drop_na(df)\n",
    "as.data.frame(colSums(is.na(df)))\n",
    "# sapply(df, function(x) sum(is.na(x)))"
   ]
  },
  {
   "cell_type": "code",
   "execution_count": 9,
   "metadata": {},
   "outputs": [
    {
     "name": "stderr",
     "output_type": "stream",
     "text": [
      "Loading required package: lattice\n",
      "Loading required package: ggplot2\n"
     ]
    }
   ],
   "source": [
    "library(caret)\n",
    "library(xgboost)"
   ]
  },
  {
   "cell_type": "code",
   "execution_count": 10,
   "metadata": {},
   "outputs": [],
   "source": [
    "intrain = createDataPartition(y = df$type, p= 0.8, list = FALSE)\n",
    "train = df[intrain,]\n",
    "test = df[-intrain,]"
   ]
  },
  {
   "cell_type": "code",
   "execution_count": 11,
   "metadata": {},
   "outputs": [
    {
     "data": {
      "text/html": [
       "<table>\n",
       "<caption>A data.frame: 1 × 7</caption>\n",
       "<thead>\n",
       "\t<tr><th></th><th scope=col>nrounds</th><th scope=col>max_depth</th><th scope=col>eta</th><th scope=col>gamma</th><th scope=col>colsample_bytree</th><th scope=col>min_child_weight</th><th scope=col>subsample</th></tr>\n",
       "\t<tr><th></th><th scope=col>&lt;dbl&gt;</th><th scope=col>&lt;int&gt;</th><th scope=col>&lt;dbl&gt;</th><th scope=col>&lt;dbl&gt;</th><th scope=col>&lt;dbl&gt;</th><th scope=col>&lt;dbl&gt;</th><th scope=col>&lt;dbl&gt;</th></tr>\n",
       "</thead>\n",
       "<tbody>\n",
       "\t<tr><th scope=row>65</th><td>100</td><td>1</td><td>0.4</td><td>0</td><td>0.8</td><td>1</td><td>0.5</td></tr>\n",
       "</tbody>\n",
       "</table>\n"
      ],
      "text/latex": [
       "A data.frame: 1 × 7\n",
       "\\begin{tabular}{r|lllllll}\n",
       "  & nrounds & max\\_depth & eta & gamma & colsample\\_bytree & min\\_child\\_weight & subsample\\\\\n",
       "  & <dbl> & <int> & <dbl> & <dbl> & <dbl> & <dbl> & <dbl>\\\\\n",
       "\\hline\n",
       "\t65 & 100 & 1 & 0.4 & 0 & 0.8 & 1 & 0.5\\\\\n",
       "\\end{tabular}\n"
      ],
      "text/markdown": [
       "\n",
       "A data.frame: 1 × 7\n",
       "\n",
       "| <!--/--> | nrounds &lt;dbl&gt; | max_depth &lt;int&gt; | eta &lt;dbl&gt; | gamma &lt;dbl&gt; | colsample_bytree &lt;dbl&gt; | min_child_weight &lt;dbl&gt; | subsample &lt;dbl&gt; |\n",
       "|---|---|---|---|---|---|---|---|\n",
       "| 65 | 100 | 1 | 0.4 | 0 | 0.8 | 1 | 0.5 |\n",
       "\n"
      ],
      "text/plain": [
       "   nrounds max_depth eta gamma colsample_bytree min_child_weight subsample\n",
       "65 100     1         0.4 0     0.8              1                0.5      "
      ]
     },
     "metadata": {},
     "output_type": "display_data"
    }
   ],
   "source": [
    "# Fit the model on the training set\n",
    "\n",
    "set.seed(123)\n",
    "model = train(\n",
    "  type ~., data = train, method = \"xgbTree\",\n",
    "  trControl = trainControl(\"cv\", number = 5)\n",
    "  )\n",
    "# Best tuning parameter\n",
    "model$bestTune"
   ]
  },
  {
   "cell_type": "code",
   "execution_count": 15,
   "metadata": {},
   "outputs": [
    {
     "data": {
      "text/plain": [
       "eXtreme Gradient Boosting \n",
       "\n",
       "158 samples\n",
       "  7 predictor\n",
       "  3 classes: 'A', 'B', 'C' \n",
       "\n",
       "No pre-processing\n",
       "Resampling: Cross-Validated (5 fold) \n",
       "Summary of sample sizes: 127, 126, 127, 126, 126 \n",
       "Resampling results across tuning parameters:\n",
       "\n",
       "  eta  max_depth  colsample_bytree  subsample  nrounds  Accuracy   Kappa    \n",
       "  0.3  1          0.6               0.50        50      0.8983871  0.8470061\n",
       "  0.3  1          0.6               0.50       100      0.8921371  0.8375391\n",
       "  0.3  1          0.6               0.50       150      0.8921371  0.8375391\n",
       "  0.3  1          0.6               0.75        50      0.8983871  0.8470061\n",
       "  0.3  1          0.6               0.75       100      0.9048387  0.8567546\n",
       "  0.3  1          0.6               0.75       150      0.9048387  0.8567546\n",
       "  0.3  1          0.6               1.00        50      0.8983871  0.8470061\n",
       "  0.3  1          0.6               1.00       100      0.8985887  0.8473843\n",
       "  0.3  1          0.6               1.00       150      0.8985887  0.8473843\n",
       "  0.3  1          0.8               0.50        50      0.8983871  0.8470061\n",
       "  0.3  1          0.8               0.50       100      0.9048387  0.8567546\n",
       "  0.3  1          0.8               0.50       150      0.9112903  0.8665030\n",
       "  0.3  1          0.8               0.75        50      0.9048387  0.8567546\n",
       "  0.3  1          0.8               0.75       100      0.8985887  0.8472875\n",
       "  0.3  1          0.8               0.75       150      0.8985887  0.8472875\n",
       "  0.3  1          0.8               1.00        50      0.8985887  0.8473843\n",
       "  0.3  1          0.8               1.00       100      0.8985887  0.8473843\n",
       "  0.3  1          0.8               1.00       150      0.8985887  0.8473843\n",
       "  0.3  2          0.6               0.50        50      0.9046371  0.8563491\n",
       "  0.3  2          0.6               0.50       100      0.9046371  0.8563491\n",
       "  0.3  2          0.6               0.50       150      0.9110887  0.8660975\n",
       "  0.3  2          0.6               0.75        50      0.9048387  0.8567546\n",
       "  0.3  2          0.6               0.75       100      0.9112903  0.8665030\n",
       "  0.3  2          0.6               0.75       150      0.9112903  0.8665030\n",
       "  0.3  2          0.6               1.00        50      0.9048387  0.8567546\n",
       "  0.3  2          0.6               1.00       100      0.9048387  0.8567546\n",
       "  0.3  2          0.6               1.00       150      0.9048387  0.8567546\n",
       "  0.3  2          0.8               0.50        50      0.9048387  0.8567546\n",
       "  0.3  2          0.8               0.50       100      0.9108871  0.8657884\n",
       "  0.3  2          0.8               0.50       150      0.9108871  0.8657884\n",
       "  0.3  2          0.8               0.75        50      0.8983871  0.8470061\n",
       "  0.3  2          0.8               0.75       100      0.8983871  0.8470061\n",
       "  0.3  2          0.8               0.75       150      0.9048387  0.8567546\n",
       "  0.3  2          0.8               1.00        50      0.9048387  0.8567546\n",
       "  0.3  2          0.8               1.00       100      0.9048387  0.8567546\n",
       "  0.3  2          0.8               1.00       150      0.9048387  0.8567546\n",
       "  0.3  3          0.6               0.50        50      0.9112903  0.8665030\n",
       "  0.3  3          0.6               0.50       100      0.9175403  0.8759423\n",
       "  0.3  3          0.6               0.50       150      0.9175403  0.8759423\n",
       "  0.3  3          0.6               0.75        50      0.9048387  0.8567546\n",
       "  0.3  3          0.6               0.75       100      0.8983871  0.8470061\n",
       "  0.3  3          0.6               0.75       150      0.8983871  0.8470061\n",
       "  0.3  3          0.6               1.00        50      0.9048387  0.8567546\n",
       "  0.3  3          0.6               1.00       100      0.9048387  0.8567546\n",
       "  0.3  3          0.6               1.00       150      0.9048387  0.8567546\n",
       "  0.3  3          0.8               0.50        50      0.9048387  0.8567546\n",
       "  0.3  3          0.8               0.50       100      0.9110887  0.8660975\n",
       "  0.3  3          0.8               0.50       150      0.9110887  0.8661939\n",
       "  0.3  3          0.8               0.75        50      0.8983871  0.8470061\n",
       "  0.3  3          0.8               0.75       100      0.8983871  0.8470061\n",
       "  0.3  3          0.8               0.75       150      0.8983871  0.8470061\n",
       "  0.3  3          0.8               1.00        50      0.9048387  0.8567546\n",
       "  0.3  3          0.8               1.00       100      0.9048387  0.8567546\n",
       "  0.3  3          0.8               1.00       150      0.9048387  0.8567546\n",
       "  0.4  1          0.6               0.50        50      0.9048387  0.8567546\n",
       "  0.4  1          0.6               0.50       100      0.9046371  0.8564454\n",
       "  0.4  1          0.6               0.50       150      0.9110887  0.8661939\n",
       "  0.4  1          0.6               0.75        50      0.8983871  0.8470061\n",
       "  0.4  1          0.6               0.75       100      0.9048387  0.8567546\n",
       "  0.4  1          0.6               0.75       150      0.8985887  0.8472875\n",
       "  0.4  1          0.6               1.00        50      0.8985887  0.8473843\n",
       "  0.4  1          0.6               1.00       100      0.8923387  0.8379173\n",
       "  0.4  1          0.6               1.00       150      0.8987903  0.8477262\n",
       "  0.4  1          0.8               0.50        50      0.9046371  0.8564454\n",
       "  0.4  1          0.8               0.50       100      0.9237903  0.8852852\n",
       "  0.4  1          0.8               0.50       150      0.9175403  0.8758459\n",
       "  0.4  1          0.8               0.75        50      0.8921371  0.8375391\n",
       "  0.4  1          0.8               0.75       100      0.9048387  0.8567546\n",
       "  0.4  1          0.8               0.75       150      0.9048387  0.8567546\n",
       "  0.4  1          0.8               1.00        50      0.9048387  0.8567546\n",
       "  0.4  1          0.8               1.00       100      0.9048387  0.8567546\n",
       "  0.4  1          0.8               1.00       150      0.8923387  0.8379589\n",
       "  0.4  2          0.6               0.50        50      0.9175403  0.8759423\n",
       "  0.4  2          0.6               0.50       100      0.9175403  0.8759423\n",
       "  0.4  2          0.6               0.50       150      0.9175403  0.8759423\n",
       "  0.4  2          0.6               0.75        50      0.8983871  0.8470061\n",
       "  0.4  2          0.6               0.75       100      0.9112903  0.8665635\n",
       "  0.4  2          0.6               0.75       150      0.9048387  0.8568151\n",
       "  0.4  2          0.6               1.00        50      0.9048387  0.8568151\n",
       "  0.4  2          0.6               1.00       100      0.9048387  0.8568151\n",
       "  0.4  2          0.6               1.00       150      0.9048387  0.8568151\n",
       "  0.4  2          0.8               0.50        50      0.9110887  0.8660975\n",
       "  0.4  2          0.8               0.50       100      0.9110887  0.8660975\n",
       "  0.4  2          0.8               0.50       150      0.9175403  0.8759065\n",
       "  0.4  2          0.8               0.75        50      0.9112903  0.8665030\n",
       "  0.4  2          0.8               0.75       100      0.9112903  0.8665030\n",
       "  0.4  2          0.8               0.75       150      0.9050403  0.8571327\n",
       "  0.4  2          0.8               1.00        50      0.9048387  0.8567546\n",
       "  0.4  2          0.8               1.00       100      0.9048387  0.8567546\n",
       "  0.4  2          0.8               1.00       150      0.8985887  0.8473843\n",
       "  0.4  3          0.6               0.50        50      0.9048387  0.8567546\n",
       "  0.4  3          0.6               0.50       100      0.9048387  0.8567546\n",
       "  0.4  3          0.6               0.50       150      0.9048387  0.8567546\n",
       "  0.4  3          0.6               0.75        50      0.9048387  0.8567546\n",
       "  0.4  3          0.6               0.75       100      0.9048387  0.8567546\n",
       "  0.4  3          0.6               0.75       150      0.9048387  0.8567546\n",
       "  0.4  3          0.6               1.00        50      0.8983871  0.8470061\n",
       "  0.4  3          0.6               1.00       100      0.8983871  0.8470061\n",
       "  0.4  3          0.6               1.00       150      0.8983871  0.8470061\n",
       "  0.4  3          0.8               0.50        50      0.9110887  0.8660975\n",
       "  0.4  3          0.8               0.50       100      0.9110887  0.8660975\n",
       "  0.4  3          0.8               0.50       150      0.9110887  0.8660975\n",
       "  0.4  3          0.8               0.75        50      0.9048387  0.8567546\n",
       "  0.4  3          0.8               0.75       100      0.8983871  0.8470061\n",
       "  0.4  3          0.8               0.75       150      0.8983871  0.8470061\n",
       "  0.4  3          0.8               1.00        50      0.8983871  0.8470061\n",
       "  0.4  3          0.8               1.00       100      0.8983871  0.8470061\n",
       "  0.4  3          0.8               1.00       150      0.8983871  0.8470061\n",
       "\n",
       "Tuning parameter 'gamma' was held constant at a value of 0\n",
       "Tuning\n",
       " parameter 'min_child_weight' was held constant at a value of 1\n",
       "Accuracy was used to select the optimal model using the largest value.\n",
       "The final values used for the model were nrounds = 100, max_depth = 1, eta\n",
       " = 0.4, gamma = 0, colsample_bytree = 0.8, min_child_weight = 1 and subsample\n",
       " = 0.5."
      ]
     },
     "metadata": {},
     "output_type": "display_data"
    }
   ],
   "source": [
    "model"
   ]
  },
  {
   "cell_type": "code",
   "execution_count": 16,
   "metadata": {},
   "outputs": [
    {
     "data": {
      "text/html": [
       "<ol class=list-inline>\n",
       "\t<li>A</li>\n",
       "\t<li>A</li>\n",
       "\t<li>A</li>\n",
       "\t<li>A</li>\n",
       "\t<li>A</li>\n",
       "\t<li>A</li>\n",
       "\t<li>C</li>\n",
       "\t<li>A</li>\n",
       "\t<li>A</li>\n",
       "\t<li>A</li>\n",
       "\t<li>A</li>\n",
       "\t<li>A</li>\n",
       "\t<li>A</li>\n",
       "\t<li>B</li>\n",
       "\t<li>B</li>\n",
       "\t<li>B</li>\n",
       "\t<li>B</li>\n",
       "\t<li>B</li>\n",
       "\t<li>B</li>\n",
       "\t<li>B</li>\n",
       "\t<li>B</li>\n",
       "\t<li>B</li>\n",
       "\t<li>B</li>\n",
       "\t<li>B</li>\n",
       "\t<li>B</li>\n",
       "\t<li>B</li>\n",
       "\t<li>A</li>\n",
       "\t<li>C</li>\n",
       "\t<li>C</li>\n",
       "\t<li>C</li>\n",
       "\t<li>C</li>\n",
       "\t<li>C</li>\n",
       "\t<li>C</li>\n",
       "\t<li>C</li>\n",
       "\t<li>C</li>\n",
       "\t<li>C</li>\n",
       "\t<li>C</li>\n",
       "</ol>\n",
       "\n",
       "<details>\n",
       "\t<summary style=display:list-item;cursor:pointer>\n",
       "\t\t<strong>Levels</strong>:\n",
       "\t</summary>\n",
       "\t<ol class=list-inline>\n",
       "\t\t<li>'A'</li>\n",
       "\t\t<li>'B'</li>\n",
       "\t\t<li>'C'</li>\n",
       "\t</ol>\n",
       "</details>"
      ],
      "text/latex": [
       "\\begin{enumerate*}\n",
       "\\item A\n",
       "\\item A\n",
       "\\item A\n",
       "\\item A\n",
       "\\item A\n",
       "\\item A\n",
       "\\item C\n",
       "\\item A\n",
       "\\item A\n",
       "\\item A\n",
       "\\item A\n",
       "\\item A\n",
       "\\item A\n",
       "\\item B\n",
       "\\item B\n",
       "\\item B\n",
       "\\item B\n",
       "\\item B\n",
       "\\item B\n",
       "\\item B\n",
       "\\item B\n",
       "\\item B\n",
       "\\item B\n",
       "\\item B\n",
       "\\item B\n",
       "\\item B\n",
       "\\item A\n",
       "\\item C\n",
       "\\item C\n",
       "\\item C\n",
       "\\item C\n",
       "\\item C\n",
       "\\item C\n",
       "\\item C\n",
       "\\item C\n",
       "\\item C\n",
       "\\item C\n",
       "\\end{enumerate*}\n",
       "\n",
       "\\emph{Levels}: \\begin{enumerate*}\n",
       "\\item 'A'\n",
       "\\item 'B'\n",
       "\\item 'C'\n",
       "\\end{enumerate*}\n"
      ],
      "text/markdown": [
       "1. A\n",
       "2. A\n",
       "3. A\n",
       "4. A\n",
       "5. A\n",
       "6. A\n",
       "7. C\n",
       "8. A\n",
       "9. A\n",
       "10. A\n",
       "11. A\n",
       "12. A\n",
       "13. A\n",
       "14. B\n",
       "15. B\n",
       "16. B\n",
       "17. B\n",
       "18. B\n",
       "19. B\n",
       "20. B\n",
       "21. B\n",
       "22. B\n",
       "23. B\n",
       "24. B\n",
       "25. B\n",
       "26. B\n",
       "27. A\n",
       "28. C\n",
       "29. C\n",
       "30. C\n",
       "31. C\n",
       "32. C\n",
       "33. C\n",
       "34. C\n",
       "35. C\n",
       "36. C\n",
       "37. C\n",
       "\n",
       "\n",
       "\n",
       "**Levels**: 1. 'A'\n",
       "2. 'B'\n",
       "3. 'C'\n",
       "\n",
       "\n"
      ],
      "text/plain": [
       " [1] A A A A A A C A A A A A A B B B B B B B B B B B B B A C C C C C C C C C C\n",
       "Levels: A B C"
      ]
     },
     "metadata": {},
     "output_type": "display_data"
    }
   ],
   "source": [
    "# let's apply our model to the test set \n",
    "\n",
    "test_pred <- predict(model, newdata = test)\n",
    "test_pred"
   ]
  },
  {
   "cell_type": "code",
   "execution_count": 17,
   "metadata": {},
   "outputs": [
    {
     "data": {
      "text/html": [
       "0.945945945945946"
      ],
      "text/latex": [
       "0.945945945945946"
      ],
      "text/markdown": [
       "0.945945945945946"
      ],
      "text/plain": [
       "[1] 0.9459459"
      ]
     },
     "metadata": {},
     "output_type": "display_data"
    }
   ],
   "source": [
    "# Compute model prediction accuracy rate\n",
    "\n",
    "mean(test_pred == test$type)"
   ]
  },
  {
   "cell_type": "code",
   "execution_count": 18,
   "metadata": {},
   "outputs": [
    {
     "data": {
      "text/plain": [
       "Confusion Matrix and Statistics\n",
       "\n",
       "         \n",
       "test_pred  A  B  C\n",
       "        A 12  0  1\n",
       "        B  0 13  0\n",
       "        C  1  0 10\n",
       "\n",
       "Overall Statistics\n",
       "                                          \n",
       "               Accuracy : 0.9459          \n",
       "                 95% CI : (0.8181, 0.9934)\n",
       "    No Information Rate : 0.3514          \n",
       "    P-Value [Acc > NIR] : 3.643e-14       \n",
       "                                          \n",
       "                  Kappa : 0.9187          \n",
       "                                          \n",
       " Mcnemar's Test P-Value : NA              \n",
       "\n",
       "Statistics by Class:\n",
       "\n",
       "                     Class: A Class: B Class: C\n",
       "Sensitivity            0.9231   1.0000   0.9091\n",
       "Specificity            0.9583   1.0000   0.9615\n",
       "Pos Pred Value         0.9231   1.0000   0.9091\n",
       "Neg Pred Value         0.9583   1.0000   0.9615\n",
       "Prevalence             0.3514   0.3514   0.2973\n",
       "Detection Rate         0.3243   0.3514   0.2703\n",
       "Detection Prevalence   0.3514   0.3514   0.2973\n",
       "Balanced Accuracy      0.9407   1.0000   0.9353"
      ]
     },
     "metadata": {},
     "output_type": "display_data"
    }
   ],
   "source": [
    "confusionMatrix(table(test_pred, test$type))"
   ]
  },
  {
   "cell_type": "code",
   "execution_count": 13,
   "metadata": {},
   "outputs": [
    {
     "data": {
      "text/html": [
       "<ol class=list-inline>\n",
       "\t<li>158</li>\n",
       "\t<li>8</li>\n",
       "</ol>\n"
      ],
      "text/latex": [
       "\\begin{enumerate*}\n",
       "\\item 158\n",
       "\\item 8\n",
       "\\end{enumerate*}\n"
      ],
      "text/markdown": [
       "1. 158\n",
       "2. 8\n",
       "\n",
       "\n"
      ],
      "text/plain": [
       "[1] 158   8"
      ]
     },
     "metadata": {},
     "output_type": "display_data"
    }
   ],
   "source": [
    "dim(train)"
   ]
  },
  {
   "cell_type": "code",
   "execution_count": 14,
   "metadata": {},
   "outputs": [
    {
     "data": {
      "text/html": [
       "<ol class=list-inline>\n",
       "\t<li>37</li>\n",
       "\t<li>8</li>\n",
       "</ol>\n"
      ],
      "text/latex": [
       "\\begin{enumerate*}\n",
       "\\item 37\n",
       "\\item 8\n",
       "\\end{enumerate*}\n"
      ],
      "text/markdown": [
       "1. 37\n",
       "2. 8\n",
       "\n",
       "\n"
      ],
      "text/plain": [
       "[1] 37  8"
      ]
     },
     "metadata": {},
     "output_type": "display_data"
    }
   ],
   "source": [
    "dim(test)"
   ]
  },
  {
   "cell_type": "code",
   "execution_count": null,
   "metadata": {},
   "outputs": [],
   "source": []
  },
  {
   "cell_type": "code",
   "execution_count": 12,
   "metadata": {},
   "outputs": [
    {
     "data": {
      "text/html": [
       "<ol class=list-inline>\n",
       "\t<li>A</li>\n",
       "\t<li>A</li>\n",
       "\t<li>A</li>\n",
       "\t<li>A</li>\n",
       "\t<li>A</li>\n",
       "\t<li>A</li>\n",
       "</ol>\n",
       "\n",
       "<details>\n",
       "\t<summary style=display:list-item;cursor:pointer>\n",
       "\t\t<strong>Levels</strong>:\n",
       "\t</summary>\n",
       "\t<ol class=list-inline>\n",
       "\t\t<li>'A'</li>\n",
       "\t\t<li>'B'</li>\n",
       "\t\t<li>'C'</li>\n",
       "\t</ol>\n",
       "</details>"
      ],
      "text/latex": [
       "\\begin{enumerate*}\n",
       "\\item A\n",
       "\\item A\n",
       "\\item A\n",
       "\\item A\n",
       "\\item A\n",
       "\\item A\n",
       "\\end{enumerate*}\n",
       "\n",
       "\\emph{Levels}: \\begin{enumerate*}\n",
       "\\item 'A'\n",
       "\\item 'B'\n",
       "\\item 'C'\n",
       "\\end{enumerate*}\n"
      ],
      "text/markdown": [
       "1. A\n",
       "2. A\n",
       "3. A\n",
       "4. A\n",
       "5. A\n",
       "6. A\n",
       "\n",
       "\n",
       "\n",
       "**Levels**: 1. 'A'\n",
       "2. 'B'\n",
       "3. 'C'\n",
       "\n",
       "\n"
      ],
      "text/plain": [
       "[1] A A A A A A\n",
       "Levels: A B C"
      ]
     },
     "metadata": {},
     "output_type": "display_data"
    }
   ],
   "source": [
    "# Make predictions on the test data\n",
    "\n",
    "predicted.classes = model %>% predict(test)\n",
    "head(predicted.classes)"
   ]
  },
  {
   "cell_type": "code",
   "execution_count": 23,
   "metadata": {},
   "outputs": [
    {
     "data": {
      "text/html": [
       "0.972972972972973"
      ],
      "text/latex": [
       "0.972972972972973"
      ],
      "text/markdown": [
       "0.972972972972973"
      ],
      "text/plain": [
       "[1] 0.972973"
      ]
     },
     "metadata": {},
     "output_type": "display_data"
    }
   ],
   "source": [
    "# Compute model prediction accuracy rate\n",
    "mean(predicted.classes == test$type)"
   ]
  },
  {
   "cell_type": "code",
   "execution_count": 19,
   "metadata": {},
   "outputs": [
    {
     "data": {
      "text/html": [
       "<ol class=list-inline>\n",
       "\t<li>A</li>\n",
       "\t<li>A</li>\n",
       "\t<li>A</li>\n",
       "\t<li>A</li>\n",
       "\t<li>A</li>\n",
       "\t<li>A</li>\n",
       "\t<li>C</li>\n",
       "\t<li>A</li>\n",
       "\t<li>A</li>\n",
       "\t<li>A</li>\n",
       "\t<li>A</li>\n",
       "\t<li>A</li>\n",
       "\t<li>A</li>\n",
       "\t<li>B</li>\n",
       "\t<li>B</li>\n",
       "\t<li>B</li>\n",
       "\t<li>B</li>\n",
       "\t<li>B</li>\n",
       "\t<li>B</li>\n",
       "\t<li>B</li>\n",
       "\t<li>B</li>\n",
       "\t<li>B</li>\n",
       "\t<li>B</li>\n",
       "\t<li>B</li>\n",
       "\t<li>B</li>\n",
       "\t<li>B</li>\n",
       "\t<li>A</li>\n",
       "\t<li>C</li>\n",
       "\t<li>C</li>\n",
       "\t<li>C</li>\n",
       "\t<li>C</li>\n",
       "\t<li>C</li>\n",
       "\t<li>C</li>\n",
       "\t<li>C</li>\n",
       "\t<li>C</li>\n",
       "\t<li>C</li>\n",
       "\t<li>C</li>\n",
       "</ol>\n",
       "\n",
       "<details>\n",
       "\t<summary style=display:list-item;cursor:pointer>\n",
       "\t\t<strong>Levels</strong>:\n",
       "\t</summary>\n",
       "\t<ol class=list-inline>\n",
       "\t\t<li>'A'</li>\n",
       "\t\t<li>'B'</li>\n",
       "\t\t<li>'C'</li>\n",
       "\t</ol>\n",
       "</details>"
      ],
      "text/latex": [
       "\\begin{enumerate*}\n",
       "\\item A\n",
       "\\item A\n",
       "\\item A\n",
       "\\item A\n",
       "\\item A\n",
       "\\item A\n",
       "\\item C\n",
       "\\item A\n",
       "\\item A\n",
       "\\item A\n",
       "\\item A\n",
       "\\item A\n",
       "\\item A\n",
       "\\item B\n",
       "\\item B\n",
       "\\item B\n",
       "\\item B\n",
       "\\item B\n",
       "\\item B\n",
       "\\item B\n",
       "\\item B\n",
       "\\item B\n",
       "\\item B\n",
       "\\item B\n",
       "\\item B\n",
       "\\item B\n",
       "\\item A\n",
       "\\item C\n",
       "\\item C\n",
       "\\item C\n",
       "\\item C\n",
       "\\item C\n",
       "\\item C\n",
       "\\item C\n",
       "\\item C\n",
       "\\item C\n",
       "\\item C\n",
       "\\end{enumerate*}\n",
       "\n",
       "\\emph{Levels}: \\begin{enumerate*}\n",
       "\\item 'A'\n",
       "\\item 'B'\n",
       "\\item 'C'\n",
       "\\end{enumerate*}\n"
      ],
      "text/markdown": [
       "1. A\n",
       "2. A\n",
       "3. A\n",
       "4. A\n",
       "5. A\n",
       "6. A\n",
       "7. C\n",
       "8. A\n",
       "9. A\n",
       "10. A\n",
       "11. A\n",
       "12. A\n",
       "13. A\n",
       "14. B\n",
       "15. B\n",
       "16. B\n",
       "17. B\n",
       "18. B\n",
       "19. B\n",
       "20. B\n",
       "21. B\n",
       "22. B\n",
       "23. B\n",
       "24. B\n",
       "25. B\n",
       "26. B\n",
       "27. A\n",
       "28. C\n",
       "29. C\n",
       "30. C\n",
       "31. C\n",
       "32. C\n",
       "33. C\n",
       "34. C\n",
       "35. C\n",
       "36. C\n",
       "37. C\n",
       "\n",
       "\n",
       "\n",
       "**Levels**: 1. 'A'\n",
       "2. 'B'\n",
       "3. 'C'\n",
       "\n",
       "\n"
      ],
      "text/plain": [
       " [1] A A A A A A C A A A A A A B B B B B B B B B B B B B A C C C C C C C C C C\n",
       "Levels: A B C"
      ]
     },
     "metadata": {},
     "output_type": "display_data"
    }
   ],
   "source": [
    "# let's apply our model to the test set \n",
    "\n",
    "test_pred <- predict(model, newdata = test)\n",
    "test_pred"
   ]
  },
  {
   "cell_type": "code",
   "execution_count": 20,
   "metadata": {},
   "outputs": [
    {
     "data": {
      "text/html": [
       "0.945945945945946"
      ],
      "text/latex": [
       "0.945945945945946"
      ],
      "text/markdown": [
       "0.945945945945946"
      ],
      "text/plain": [
       "[1] 0.9459459"
      ]
     },
     "metadata": {},
     "output_type": "display_data"
    }
   ],
   "source": [
    "# Compute model prediction accuracy rate\n",
    "\n",
    "mean(test_pred == test$type)"
   ]
  },
  {
   "cell_type": "code",
   "execution_count": 26,
   "metadata": {},
   "outputs": [
    {
     "data": {
      "text/plain": [
       "xgbTree variable importance\n",
       "\n",
       "              Overall\n",
       "groove      100.00000\n",
       "area         73.20171\n",
       "perimeter    28.03824\n",
       "asymmetry    15.26741\n",
       "width         7.04142\n",
       "length        0.01702\n",
       "compactness   0.00000"
      ]
     },
     "metadata": {},
     "output_type": "display_data"
    }
   ],
   "source": [
    "# variable importance\n",
    "\n",
    "varImp(model)"
   ]
  },
  {
   "cell_type": "code",
   "execution_count": 27,
   "metadata": {},
   "outputs": [
    {
     "data": {
      "text/plain": [
       "Confusion Matrix and Statistics\n",
       "\n",
       "         \n",
       "test_pred  A  B  C\n",
       "        A 13  0  1\n",
       "        B  0 13  0\n",
       "        C  0  0 10\n",
       "\n",
       "Overall Statistics\n",
       "                                          \n",
       "               Accuracy : 0.973           \n",
       "                 95% CI : (0.8584, 0.9993)\n",
       "    No Information Rate : 0.3514          \n",
       "    P-Value [Acc > NIR] : 1.079e-15       \n",
       "                                          \n",
       "                  Kappa : 0.9593          \n",
       "                                          \n",
       " Mcnemar's Test P-Value : NA              \n",
       "\n",
       "Statistics by Class:\n",
       "\n",
       "                     Class: A Class: B Class: C\n",
       "Sensitivity            1.0000   1.0000   0.9091\n",
       "Specificity            0.9583   1.0000   1.0000\n",
       "Pos Pred Value         0.9286   1.0000   1.0000\n",
       "Neg Pred Value         1.0000   1.0000   0.9630\n",
       "Prevalence             0.3514   0.3514   0.2973\n",
       "Detection Rate         0.3514   0.3514   0.2703\n",
       "Detection Prevalence   0.3784   0.3514   0.2703\n",
       "Balanced Accuracy      0.9792   1.0000   0.9545"
      ]
     },
     "metadata": {},
     "output_type": "display_data"
    }
   ],
   "source": [
    "confusionMatrix(table(test_pred, test$type))"
   ]
  },
  {
   "cell_type": "code",
   "execution_count": 22,
   "metadata": {},
   "outputs": [
    {
     "data": {
      "text/html": [
       "<ol class=list-inline>\n",
       "\t<li>10</li>\n",
       "\t<li>7</li>\n",
       "</ol>\n"
      ],
      "text/latex": [
       "\\begin{enumerate*}\n",
       "\\item 10\n",
       "\\item 7\n",
       "\\end{enumerate*}\n"
      ],
      "text/markdown": [
       "1. 10\n",
       "2. 7\n",
       "\n",
       "\n"
      ],
      "text/plain": [
       "[1] 10  7"
      ]
     },
     "metadata": {},
     "output_type": "display_data"
    }
   ],
   "source": [
    "unknown = read.csv('/public/bmort/R/wheat-unknown.csv')\n",
    "dim(unknown)"
   ]
  },
  {
   "cell_type": "code",
   "execution_count": 23,
   "metadata": {},
   "outputs": [
    {
     "data": {
      "text/html": [
       "<ol class=list-inline>\n",
       "\t<li>B</li>\n",
       "\t<li>B</li>\n",
       "\t<li>B</li>\n",
       "\t<li>B</li>\n",
       "\t<li>B</li>\n",
       "\t<li>B</li>\n",
       "\t<li>B</li>\n",
       "\t<li>B</li>\n",
       "\t<li>B</li>\n",
       "\t<li>B</li>\n",
       "</ol>\n",
       "\n",
       "<details>\n",
       "\t<summary style=display:list-item;cursor:pointer>\n",
       "\t\t<strong>Levels</strong>:\n",
       "\t</summary>\n",
       "\t<ol class=list-inline>\n",
       "\t\t<li>'A'</li>\n",
       "\t\t<li>'B'</li>\n",
       "\t\t<li>'C'</li>\n",
       "\t</ol>\n",
       "</details>"
      ],
      "text/latex": [
       "\\begin{enumerate*}\n",
       "\\item B\n",
       "\\item B\n",
       "\\item B\n",
       "\\item B\n",
       "\\item B\n",
       "\\item B\n",
       "\\item B\n",
       "\\item B\n",
       "\\item B\n",
       "\\item B\n",
       "\\end{enumerate*}\n",
       "\n",
       "\\emph{Levels}: \\begin{enumerate*}\n",
       "\\item 'A'\n",
       "\\item 'B'\n",
       "\\item 'C'\n",
       "\\end{enumerate*}\n"
      ],
      "text/markdown": [
       "1. B\n",
       "2. B\n",
       "3. B\n",
       "4. B\n",
       "5. B\n",
       "6. B\n",
       "7. B\n",
       "8. B\n",
       "9. B\n",
       "10. B\n",
       "\n",
       "\n",
       "\n",
       "**Levels**: 1. 'A'\n",
       "2. 'B'\n",
       "3. 'C'\n",
       "\n",
       "\n"
      ],
      "text/plain": [
       " [1] B B B B B B B B B B\n",
       "Levels: A B C"
      ]
     },
     "metadata": {},
     "output_type": "display_data"
    }
   ],
   "source": [
    "test_pred <- predict(model, newdata = unknown)\n",
    "test_pred"
   ]
  },
  {
   "cell_type": "code",
   "execution_count": 24,
   "metadata": {},
   "outputs": [
    {
     "data": {
      "text/html": [
       "<table>\n",
       "<caption>A data.frame: 10 × 8</caption>\n",
       "<thead>\n",
       "\t<tr><th scope=col>area</th><th scope=col>perimeter</th><th scope=col>compactness</th><th scope=col>length</th><th scope=col>width</th><th scope=col>asymmetry</th><th scope=col>groove</th><th scope=col>type</th></tr>\n",
       "\t<tr><th scope=col>&lt;dbl&gt;</th><th scope=col>&lt;dbl&gt;</th><th scope=col>&lt;dbl&gt;</th><th scope=col>&lt;dbl&gt;</th><th scope=col>&lt;dbl&gt;</th><th scope=col>&lt;dbl&gt;</th><th scope=col>&lt;dbl&gt;</th><th scope=col>&lt;fct&gt;</th></tr>\n",
       "</thead>\n",
       "<tbody>\n",
       "\t<tr><td>11.56</td><td>13.31</td><td>0.8198</td><td>5.363</td><td>2.683</td><td>4.062</td><td>5.182</td><td>B</td></tr>\n",
       "\t<tr><td>14.79</td><td>14.52</td><td>0.8819</td><td>5.545</td><td>3.291</td><td>2.704</td><td>5.111</td><td>B</td></tr>\n",
       "\t<tr><td>10.82</td><td>12.83</td><td>0.8256</td><td>5.180</td><td>2.630</td><td>4.853</td><td>5.089</td><td>B</td></tr>\n",
       "\t<tr><td>13.32</td><td>13.94</td><td>0.8613</td><td>5.541</td><td>3.073</td><td>7.035</td><td>5.440</td><td>B</td></tr>\n",
       "\t<tr><td>11.49</td><td>13.22</td><td>0.8263</td><td>5.304</td><td>2.695</td><td>5.388</td><td>5.310</td><td>B</td></tr>\n",
       "\t<tr><td>10.83</td><td>12.96</td><td>0.8099</td><td>5.278</td><td>2.641</td><td>5.182</td><td>5.185</td><td>B</td></tr>\n",
       "\t<tr><td>15.11</td><td>14.54</td><td>0.8986</td><td>5.579</td><td>3.462</td><td>3.128</td><td>5.180</td><td>B</td></tr>\n",
       "\t<tr><td>11.19</td><td>13.05</td><td>0.8253</td><td>5.250</td><td>2.675</td><td>5.813</td><td>5.219</td><td>B</td></tr>\n",
       "\t<tr><td>12.02</td><td>13.33</td><td>0.8503</td><td>5.350</td><td>2.810</td><td>4.271</td><td>5.308</td><td>B</td></tr>\n",
       "\t<tr><td>17.99</td><td>15.86</td><td>0.8992</td><td>5.890</td><td>3.694</td><td>2.068</td><td>5.837</td><td>B</td></tr>\n",
       "</tbody>\n",
       "</table>\n"
      ],
      "text/latex": [
       "A data.frame: 10 × 8\n",
       "\\begin{tabular}{r|llllllll}\n",
       " area & perimeter & compactness & length & width & asymmetry & groove & type\\\\\n",
       " <dbl> & <dbl> & <dbl> & <dbl> & <dbl> & <dbl> & <dbl> & <fct>\\\\\n",
       "\\hline\n",
       "\t 11.56 & 13.31 & 0.8198 & 5.363 & 2.683 & 4.062 & 5.182 & B\\\\\n",
       "\t 14.79 & 14.52 & 0.8819 & 5.545 & 3.291 & 2.704 & 5.111 & B\\\\\n",
       "\t 10.82 & 12.83 & 0.8256 & 5.180 & 2.630 & 4.853 & 5.089 & B\\\\\n",
       "\t 13.32 & 13.94 & 0.8613 & 5.541 & 3.073 & 7.035 & 5.440 & B\\\\\n",
       "\t 11.49 & 13.22 & 0.8263 & 5.304 & 2.695 & 5.388 & 5.310 & B\\\\\n",
       "\t 10.83 & 12.96 & 0.8099 & 5.278 & 2.641 & 5.182 & 5.185 & B\\\\\n",
       "\t 15.11 & 14.54 & 0.8986 & 5.579 & 3.462 & 3.128 & 5.180 & B\\\\\n",
       "\t 11.19 & 13.05 & 0.8253 & 5.250 & 2.675 & 5.813 & 5.219 & B\\\\\n",
       "\t 12.02 & 13.33 & 0.8503 & 5.350 & 2.810 & 4.271 & 5.308 & B\\\\\n",
       "\t 17.99 & 15.86 & 0.8992 & 5.890 & 3.694 & 2.068 & 5.837 & B\\\\\n",
       "\\end{tabular}\n"
      ],
      "text/markdown": [
       "\n",
       "A data.frame: 10 × 8\n",
       "\n",
       "| area &lt;dbl&gt; | perimeter &lt;dbl&gt; | compactness &lt;dbl&gt; | length &lt;dbl&gt; | width &lt;dbl&gt; | asymmetry &lt;dbl&gt; | groove &lt;dbl&gt; | type &lt;fct&gt; |\n",
       "|---|---|---|---|---|---|---|---|\n",
       "| 11.56 | 13.31 | 0.8198 | 5.363 | 2.683 | 4.062 | 5.182 | B |\n",
       "| 14.79 | 14.52 | 0.8819 | 5.545 | 3.291 | 2.704 | 5.111 | B |\n",
       "| 10.82 | 12.83 | 0.8256 | 5.180 | 2.630 | 4.853 | 5.089 | B |\n",
       "| 13.32 | 13.94 | 0.8613 | 5.541 | 3.073 | 7.035 | 5.440 | B |\n",
       "| 11.49 | 13.22 | 0.8263 | 5.304 | 2.695 | 5.388 | 5.310 | B |\n",
       "| 10.83 | 12.96 | 0.8099 | 5.278 | 2.641 | 5.182 | 5.185 | B |\n",
       "| 15.11 | 14.54 | 0.8986 | 5.579 | 3.462 | 3.128 | 5.180 | B |\n",
       "| 11.19 | 13.05 | 0.8253 | 5.250 | 2.675 | 5.813 | 5.219 | B |\n",
       "| 12.02 | 13.33 | 0.8503 | 5.350 | 2.810 | 4.271 | 5.308 | B |\n",
       "| 17.99 | 15.86 | 0.8992 | 5.890 | 3.694 | 2.068 | 5.837 | B |\n",
       "\n"
      ],
      "text/plain": [
       "   area  perimeter compactness length width asymmetry groove type\n",
       "1  11.56 13.31     0.8198      5.363  2.683 4.062     5.182  B   \n",
       "2  14.79 14.52     0.8819      5.545  3.291 2.704     5.111  B   \n",
       "3  10.82 12.83     0.8256      5.180  2.630 4.853     5.089  B   \n",
       "4  13.32 13.94     0.8613      5.541  3.073 7.035     5.440  B   \n",
       "5  11.49 13.22     0.8263      5.304  2.695 5.388     5.310  B   \n",
       "6  10.83 12.96     0.8099      5.278  2.641 5.182     5.185  B   \n",
       "7  15.11 14.54     0.8986      5.579  3.462 3.128     5.180  B   \n",
       "8  11.19 13.05     0.8253      5.250  2.675 5.813     5.219  B   \n",
       "9  12.02 13.33     0.8503      5.350  2.810 4.271     5.308  B   \n",
       "10 17.99 15.86     0.8992      5.890  3.694 2.068     5.837  B   "
      ]
     },
     "metadata": {},
     "output_type": "display_data"
    }
   ],
   "source": [
    "unknown$type = test_pred\n",
    "unknown"
   ]
  }
 ],
 "metadata": {
  "kernelspec": {
   "display_name": "R 3.6.1",
   "language": "R",
   "name": "r-3.6.1"
  },
  "language_info": {
   "codemirror_mode": "r",
   "file_extension": ".r",
   "mimetype": "text/x-r-source",
   "name": "R",
   "pygments_lexer": "r",
   "version": "3.6.1"
  }
 },
 "nbformat": 4,
 "nbformat_minor": 2
}
