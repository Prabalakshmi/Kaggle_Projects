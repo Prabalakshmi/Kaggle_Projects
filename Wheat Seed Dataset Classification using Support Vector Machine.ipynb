{
 "cells": [
  {
   "cell_type": "markdown",
   "metadata": {},
   "source": [
    "<h1><center>Arunaggiri Pandian Karunanidhi</center></h1>"
   ]
  },
  {
   "cell_type": "markdown",
   "metadata": {},
   "source": [
    "## Approach - 1"
   ]
  },
  {
   "cell_type": "markdown",
   "metadata": {},
   "source": [
    "#### A. Using R, load the /public/bmort/R/wheat.csv data set into a data frame. Are there any missing values? Perform any necessary data imputation on the data set."
   ]
  },
  {
   "cell_type": "code",
   "execution_count": 64,
   "metadata": {},
   "outputs": [],
   "source": [
    "df = read.csv(\"/public/bmort/R/wheat.csv\")"
   ]
  },
  {
   "cell_type": "code",
   "execution_count": 65,
   "metadata": {},
   "outputs": [
    {
     "data": {
      "text/html": [
       "<ol class=list-inline>\n",
       "\t<li>200</li>\n",
       "\t<li>8</li>\n",
       "</ol>\n"
      ],
      "text/latex": [
       "\\begin{enumerate*}\n",
       "\\item 200\n",
       "\\item 8\n",
       "\\end{enumerate*}\n"
      ],
      "text/markdown": [
       "1. 200\n",
       "2. 8\n",
       "\n",
       "\n"
      ],
      "text/plain": [
       "[1] 200   8"
      ]
     },
     "metadata": {},
     "output_type": "display_data"
    }
   ],
   "source": [
    "dim(df)"
   ]
  },
  {
   "cell_type": "code",
   "execution_count": 66,
   "metadata": {},
   "outputs": [
    {
     "data": {
      "text/html": [
       "<table>\n",
       "<caption>A data.frame: 5 × 8</caption>\n",
       "<thead>\n",
       "\t<tr><th scope=col>area</th><th scope=col>perimeter</th><th scope=col>compactness</th><th scope=col>length</th><th scope=col>width</th><th scope=col>asymmetry</th><th scope=col>groove</th><th scope=col>type</th></tr>\n",
       "\t<tr><th scope=col>&lt;dbl&gt;</th><th scope=col>&lt;dbl&gt;</th><th scope=col>&lt;dbl&gt;</th><th scope=col>&lt;dbl&gt;</th><th scope=col>&lt;dbl&gt;</th><th scope=col>&lt;dbl&gt;</th><th scope=col>&lt;dbl&gt;</th><th scope=col>&lt;fct&gt;</th></tr>\n",
       "</thead>\n",
       "<tbody>\n",
       "\t<tr><td>15.26</td><td>14.84</td><td>0.8710</td><td>5.763</td><td>3.312</td><td>2.221</td><td>5.220</td><td>A</td></tr>\n",
       "\t<tr><td>14.88</td><td>14.57</td><td>0.8811</td><td>5.554</td><td>3.333</td><td>1.018</td><td>4.956</td><td>A</td></tr>\n",
       "\t<tr><td>14.29</td><td>14.09</td><td>0.9050</td><td>5.291</td><td>3.337</td><td>2.699</td><td>4.825</td><td>A</td></tr>\n",
       "\t<tr><td>13.84</td><td>13.94</td><td>0.8955</td><td>5.324</td><td>3.379</td><td>2.259</td><td>4.805</td><td>A</td></tr>\n",
       "\t<tr><td>16.14</td><td>14.99</td><td>0.9034</td><td>5.658</td><td>3.562</td><td>1.355</td><td>5.175</td><td>A</td></tr>\n",
       "</tbody>\n",
       "</table>\n"
      ],
      "text/latex": [
       "A data.frame: 5 × 8\n",
       "\\begin{tabular}{r|llllllll}\n",
       " area & perimeter & compactness & length & width & asymmetry & groove & type\\\\\n",
       " <dbl> & <dbl> & <dbl> & <dbl> & <dbl> & <dbl> & <dbl> & <fct>\\\\\n",
       "\\hline\n",
       "\t 15.26 & 14.84 & 0.8710 & 5.763 & 3.312 & 2.221 & 5.220 & A\\\\\n",
       "\t 14.88 & 14.57 & 0.8811 & 5.554 & 3.333 & 1.018 & 4.956 & A\\\\\n",
       "\t 14.29 & 14.09 & 0.9050 & 5.291 & 3.337 & 2.699 & 4.825 & A\\\\\n",
       "\t 13.84 & 13.94 & 0.8955 & 5.324 & 3.379 & 2.259 & 4.805 & A\\\\\n",
       "\t 16.14 & 14.99 & 0.9034 & 5.658 & 3.562 & 1.355 & 5.175 & A\\\\\n",
       "\\end{tabular}\n"
      ],
      "text/markdown": [
       "\n",
       "A data.frame: 5 × 8\n",
       "\n",
       "| area &lt;dbl&gt; | perimeter &lt;dbl&gt; | compactness &lt;dbl&gt; | length &lt;dbl&gt; | width &lt;dbl&gt; | asymmetry &lt;dbl&gt; | groove &lt;dbl&gt; | type &lt;fct&gt; |\n",
       "|---|---|---|---|---|---|---|---|\n",
       "| 15.26 | 14.84 | 0.8710 | 5.763 | 3.312 | 2.221 | 5.220 | A |\n",
       "| 14.88 | 14.57 | 0.8811 | 5.554 | 3.333 | 1.018 | 4.956 | A |\n",
       "| 14.29 | 14.09 | 0.9050 | 5.291 | 3.337 | 2.699 | 4.825 | A |\n",
       "| 13.84 | 13.94 | 0.8955 | 5.324 | 3.379 | 2.259 | 4.805 | A |\n",
       "| 16.14 | 14.99 | 0.9034 | 5.658 | 3.562 | 1.355 | 5.175 | A |\n",
       "\n"
      ],
      "text/plain": [
       "  area  perimeter compactness length width asymmetry groove type\n",
       "1 15.26 14.84     0.8710      5.763  3.312 2.221     5.220  A   \n",
       "2 14.88 14.57     0.8811      5.554  3.333 1.018     4.956  A   \n",
       "3 14.29 14.09     0.9050      5.291  3.337 2.699     4.825  A   \n",
       "4 13.84 13.94     0.8955      5.324  3.379 2.259     4.805  A   \n",
       "5 16.14 14.99     0.9034      5.658  3.562 1.355     5.175  A   "
      ]
     },
     "metadata": {},
     "output_type": "display_data"
    }
   ],
   "source": [
    "head(df, 5)"
   ]
  },
  {
   "cell_type": "code",
   "execution_count": 67,
   "metadata": {},
   "outputs": [
    {
     "name": "stdout",
     "output_type": "stream",
     "text": [
      "[1] 8\n",
      "[1] 200\n"
     ]
    }
   ],
   "source": [
    "print(ncol(df))\n",
    "print(nrow(df))"
   ]
  },
  {
   "cell_type": "code",
   "execution_count": 68,
   "metadata": {},
   "outputs": [
    {
     "name": "stdout",
     "output_type": "stream",
     "text": [
      "[1] \"Count of missing values by column wise\"\n"
     ]
    },
    {
     "data": {
      "text/html": [
       "<dl class=dl-horizontal>\n",
       "\t<dt>area</dt>\n",
       "\t\t<dd>0</dd>\n",
       "\t<dt>perimeter</dt>\n",
       "\t\t<dd>0</dd>\n",
       "\t<dt>compactness</dt>\n",
       "\t\t<dd>0</dd>\n",
       "\t<dt>length</dt>\n",
       "\t\t<dd>0</dd>\n",
       "\t<dt>width</dt>\n",
       "\t\t<dd>1</dd>\n",
       "\t<dt>asymmetry</dt>\n",
       "\t\t<dd>0</dd>\n",
       "\t<dt>groove</dt>\n",
       "\t\t<dd>0</dd>\n",
       "\t<dt>type</dt>\n",
       "\t\t<dd>0</dd>\n",
       "</dl>\n"
      ],
      "text/latex": [
       "\\begin{description*}\n",
       "\\item[area] 0\n",
       "\\item[perimeter] 0\n",
       "\\item[compactness] 0\n",
       "\\item[length] 0\n",
       "\\item[width] 1\n",
       "\\item[asymmetry] 0\n",
       "\\item[groove] 0\n",
       "\\item[type] 0\n",
       "\\end{description*}\n"
      ],
      "text/markdown": [
       "area\n",
       ":   0perimeter\n",
       ":   0compactness\n",
       ":   0length\n",
       ":   0width\n",
       ":   1asymmetry\n",
       ":   0groove\n",
       ":   0type\n",
       ":   0\n",
       "\n"
      ],
      "text/plain": [
       "       area   perimeter compactness      length       width   asymmetry \n",
       "          0           0           0           0           1           0 \n",
       "     groove        type \n",
       "          0           0 "
      ]
     },
     "metadata": {},
     "output_type": "display_data"
    }
   ],
   "source": [
    "# count the missing values by column wise\n",
    "print(\"Count of missing values by column wise\")\n",
    "sapply(df, function(x) sum(is.na(x)))"
   ]
  },
  {
   "cell_type": "markdown",
   "metadata": {},
   "source": [
    "Width column has 1 missing value"
   ]
  },
  {
   "cell_type": "code",
   "execution_count": 69,
   "metadata": {},
   "outputs": [],
   "source": [
    "# finding mode value\n",
    "\n",
    "find_mode <- function(x) {\n",
    "  u <- unique(x)\n",
    "  tab <- tabulate(match(x, u))\n",
    "  u[tab == max(tab)]\n",
    "}\n",
    "\n",
    "mode_val = find_mode(df$width)"
   ]
  },
  {
   "cell_type": "code",
   "execution_count": 70,
   "metadata": {},
   "outputs": [],
   "source": [
    "# replacing null value with mode value\n",
    "\n",
    "# which(is.na(df$width))\n",
    "df$width[8] = mode_val"
   ]
  },
  {
   "cell_type": "code",
   "execution_count": 71,
   "metadata": {},
   "outputs": [
    {
     "data": {
      "text/html": [
       "<dl class=dl-horizontal>\n",
       "\t<dt>area</dt>\n",
       "\t\t<dd>0</dd>\n",
       "\t<dt>perimeter</dt>\n",
       "\t\t<dd>0</dd>\n",
       "\t<dt>compactness</dt>\n",
       "\t\t<dd>0</dd>\n",
       "\t<dt>length</dt>\n",
       "\t\t<dd>0</dd>\n",
       "\t<dt>width</dt>\n",
       "\t\t<dd>0</dd>\n",
       "\t<dt>asymmetry</dt>\n",
       "\t\t<dd>0</dd>\n",
       "\t<dt>groove</dt>\n",
       "\t\t<dd>0</dd>\n",
       "\t<dt>type</dt>\n",
       "\t\t<dd>0</dd>\n",
       "</dl>\n"
      ],
      "text/latex": [
       "\\begin{description*}\n",
       "\\item[area] 0\n",
       "\\item[perimeter] 0\n",
       "\\item[compactness] 0\n",
       "\\item[length] 0\n",
       "\\item[width] 0\n",
       "\\item[asymmetry] 0\n",
       "\\item[groove] 0\n",
       "\\item[type] 0\n",
       "\\end{description*}\n"
      ],
      "text/markdown": [
       "area\n",
       ":   0perimeter\n",
       ":   0compactness\n",
       ":   0length\n",
       ":   0width\n",
       ":   0asymmetry\n",
       ":   0groove\n",
       ":   0type\n",
       ":   0\n",
       "\n"
      ],
      "text/plain": [
       "       area   perimeter compactness      length       width   asymmetry \n",
       "          0           0           0           0           0           0 \n",
       "     groove        type \n",
       "          0           0 "
      ]
     },
     "metadata": {},
     "output_type": "display_data"
    }
   ],
   "source": [
    "sapply(df, function(x) sum(is.na(x)))"
   ]
  },
  {
   "cell_type": "markdown",
   "metadata": {},
   "source": [
    "#### B. Produce a table of summary statistics on the data set. How do the ranges of the values in the columns compare? Does each column of data have similar magnitudes and ranges? Are there any outliers?"
   ]
  },
  {
   "cell_type": "code",
   "execution_count": 72,
   "metadata": {},
   "outputs": [
    {
     "data": {
      "text/plain": [
       "      area         perimeter      compactness         length     \n",
       " Min.   :10.59   Min.   :12.41   Min.   :0.8081   Min.   :4.899  \n",
       " 1st Qu.:12.38   1st Qu.:13.47   1st Qu.:0.8583   1st Qu.:5.257  \n",
       " Median :14.40   Median :14.38   Median :0.8745   Median :5.534  \n",
       " Mean   :14.94   Mean   :14.60   Mean   :0.8721   Mean   :5.639  \n",
       " 3rd Qu.:17.41   3rd Qu.:15.78   3rd Qu.:0.8879   3rd Qu.:6.009  \n",
       " Max.   :21.18   Max.   :17.25   Max.   :0.9183   Max.   :6.675  \n",
       "     width         asymmetry          groove      type  \n",
       " Min.   :2.642   Min.   :0.7651   Min.   :4.519   A:68  \n",
       " 1st Qu.:2.965   1st Qu.:2.4935   1st Qu.:5.043   B:69  \n",
       " Median :3.244   Median :3.5915   Median :5.226   C:63  \n",
       " Mean   :3.272   Mean   :3.6627   Mean   :5.414         \n",
       " 3rd Qu.:3.564   3rd Qu.:4.7043   3rd Qu.:5.879         \n",
       " Max.   :4.033   Max.   :8.4560   Max.   :6.550         "
      ]
     },
     "metadata": {},
     "output_type": "display_data"
    }
   ],
   "source": [
    "summary(df)"
   ]
  },
  {
   "cell_type": "markdown",
   "metadata": {},
   "source": [
    "## Each column of data have a different magnitude and range so let's normalize it"
   ]
  },
  {
   "cell_type": "code",
   "execution_count": 73,
   "metadata": {},
   "outputs": [],
   "source": [
    "# normalize data\n",
    "\n",
    "normalize <- function(x) {\n",
    "return ((x - min(x)) / (max(x) - min(x)))\n",
    "}\n"
   ]
  },
  {
   "cell_type": "code",
   "execution_count": 74,
   "metadata": {},
   "outputs": [],
   "source": [
    "df$area = normalize(df$area)\n",
    "df$perimeter = normalize(df$perimeter)\n",
    "df$length = normalize(df$length)\n",
    "df$width = normalize(df$width)\n",
    "df$asymmetry = normalize(df$asymmetry)\n",
    "df$groove = normalize(df$groove)\n",
    "df$compactness = normalize(df$compactness)"
   ]
  },
  {
   "cell_type": "code",
   "execution_count": 76,
   "metadata": {},
   "outputs": [
    {
     "data": {
      "text/plain": [
       "      area          perimeter       compactness         length      \n",
       " Min.   :0.0000   Min.   :0.0000   Min.   :0.0000   Min.   :0.0000  \n",
       " 1st Qu.:0.1688   1st Qu.:0.2190   1st Qu.:0.4555   1st Qu.:0.2017  \n",
       " Median :0.3602   Median :0.4070   Median :0.6025   Median :0.3575  \n",
       " Mean   :0.4112   Mean   :0.4524   Mean   :0.5804   Mean   :0.4164  \n",
       " 3rd Qu.:0.6438   3rd Qu.:0.6968   3rd Qu.:0.7244   3rd Qu.:0.6249  \n",
       " Max.   :1.0000   Max.   :1.0000   Max.   :1.0000   Max.   :1.0000  \n",
       "     width          asymmetry          groove       type  \n",
       " Min.   :0.0000   Min.   :0.0000   Min.   :0.0000   A:68  \n",
       " 1st Qu.:0.2324   1st Qu.:0.2247   1st Qu.:0.2578   B:69  \n",
       " Median :0.4324   Median :0.3675   Median :0.3481   C:63  \n",
       " Mean   :0.4528   Mean   :0.3768   Mean   :0.4408         \n",
       " 3rd Qu.:0.6627   3rd Qu.:0.5122   3rd Qu.:0.6696         \n",
       " Max.   :1.0000   Max.   :1.0000   Max.   :1.0000         "
      ]
     },
     "metadata": {},
     "output_type": "display_data"
    }
   ],
   "source": [
    "summary(df)"
   ]
  },
  {
   "cell_type": "code",
   "execution_count": 83,
   "metadata": {},
   "outputs": [
    {
     "data": {
      "image/png": "[encoded data removed]",
      "text/plain": [
       "plot without title"
      ]
     },
     "metadata": {},
     "output_type": "display_data"
    }
   ],
   "source": [
    "out = df[1:7]\n",
    "boxplot(out, col='gold')"
   ]
  },
  {
   "cell_type": "markdown",
   "metadata": {},
   "source": [
    "### Compactness column and groove column have outliers <br>"
   ]
  },
  {
   "cell_type": "code",
   "execution_count": 17,
   "metadata": {},
   "outputs": [],
   "source": [
    "# # replacing outlier values with NaN values\n",
    "\n",
    "# # Outlier Calculation\n",
    "\n",
    "# ##Function to calculate outliers\n",
    "\n",
    "# # FindOutliers <- function(data) {\n",
    "# #   lowerq = quantile(data)[2]\n",
    "# #   upperq = quantile(data)[4]\n",
    "# #   iqr = upperq - lowerq #Or use IQR(data)\n",
    "# #   # we identify extreme outliers\n",
    "# #   extreme.threshold.upper = (iqr * 3) + upperq\n",
    "# #   extreme.threshold.lower = lowerq - (iqr * 3)\n",
    "# #   result <- which(data > extreme.threshold.upper | data < extreme.threshold.lower)\n",
    "# # }\n",
    "\n",
    "# FindOutliers <- function(data) {\n",
    "#   lowerq = quantile(data)[2]\n",
    "#   upperq = quantile(data)[4]\n",
    "#   iqr = upperq - lowerq #Or use IQR(data)\n",
    "#   # we identify extreme outliers\n",
    "#   extreme.threshold.upper = (iqr * 3) + upperq\n",
    "#   extreme.threshold.lower = lowerq - (iqr * 3)\n",
    "#   result <- which(data > extreme.threshold.upper | data < extreme.threshold.lower)\n",
    "#   length(result)\n",
    "# }\n",
    "# apply(out, 2, FindOutliers)"
   ]
  },
  {
   "cell_type": "code",
   "execution_count": 18,
   "metadata": {},
   "outputs": [],
   "source": [
    "# Replacing outlier values with NaN values\n",
    "\n",
    "for (x in c('compactness','asymmetry'))\n",
    "{\n",
    "  value = df[,x][df[,x] %in% boxplot.stats(df[,x])$out]\n",
    "  df[,x][df[,x] %in% value] = NA\n",
    "} "
   ]
  },
  {
   "cell_type": "code",
   "execution_count": 19,
   "metadata": {},
   "outputs": [
    {
     "name": "stdout",
     "output_type": "stream",
     "text": [
      "[1] 3\n",
      "[1] 2\n"
     ]
    }
   ],
   "source": [
    "#Checking whether the outliers in the above defined columns are replaced by NULL or not\n",
    "\n",
    "print(sum(is.na(df$compactness)))\n",
    "print(sum(is.na(df$asymmetry)))"
   ]
  },
  {
   "cell_type": "code",
   "execution_count": 20,
   "metadata": {},
   "outputs": [
    {
     "data": {
      "text/html": [
       "<dl class=dl-horizontal>\n",
       "\t<dt>area</dt>\n",
       "\t\t<dd>0</dd>\n",
       "\t<dt>perimeter</dt>\n",
       "\t\t<dd>0</dd>\n",
       "\t<dt>compactness</dt>\n",
       "\t\t<dd>3</dd>\n",
       "\t<dt>length</dt>\n",
       "\t\t<dd>0</dd>\n",
       "\t<dt>width</dt>\n",
       "\t\t<dd>0</dd>\n",
       "\t<dt>asymmetry</dt>\n",
       "\t\t<dd>2</dd>\n",
       "\t<dt>groove</dt>\n",
       "\t\t<dd>0</dd>\n",
       "\t<dt>type</dt>\n",
       "\t\t<dd>0</dd>\n",
       "</dl>\n"
      ],
      "text/latex": [
       "\\begin{description*}\n",
       "\\item[area] 0\n",
       "\\item[perimeter] 0\n",
       "\\item[compactness] 3\n",
       "\\item[length] 0\n",
       "\\item[width] 0\n",
       "\\item[asymmetry] 2\n",
       "\\item[groove] 0\n",
       "\\item[type] 0\n",
       "\\end{description*}\n"
      ],
      "text/markdown": [
       "area\n",
       ":   0perimeter\n",
       ":   0compactness\n",
       ":   3length\n",
       ":   0width\n",
       ":   0asymmetry\n",
       ":   2groove\n",
       ":   0type\n",
       ":   0\n",
       "\n"
      ],
      "text/plain": [
       "       area   perimeter compactness      length       width   asymmetry \n",
       "          0           0           3           0           0           2 \n",
       "     groove        type \n",
       "          0           0 "
      ]
     },
     "metadata": {},
     "output_type": "display_data"
    }
   ],
   "source": [
    "sapply(df, function(x) sum(is.na(x)))"
   ]
  },
  {
   "cell_type": "code",
   "execution_count": 21,
   "metadata": {},
   "outputs": [],
   "source": [
    "# # finding mode value\n",
    "\n",
    "# find_mode <- function(x) {\n",
    "#   u <- unique(x)\n",
    "#   tab <- tabulate(match(x, u))\n",
    "#   u[tab == max(tab)]\n",
    "# }\n",
    "\n",
    "# mode_val = find_mode(df$compactness)"
   ]
  },
  {
   "cell_type": "code",
   "execution_count": 22,
   "metadata": {},
   "outputs": [],
   "source": [
    "# # replacing null value with mode value in compactness column\n",
    "\n",
    "# index = which(is.na(df$compactness))\n",
    "# print(index)\n",
    "\n",
    "# for (i in index)\n",
    "# {\n",
    "#     df$compactness[i] = mode_val\n",
    "# }\n",
    "# # df$width[8] = mode_val"
   ]
  },
  {
   "cell_type": "code",
   "execution_count": 23,
   "metadata": {},
   "outputs": [],
   "source": [
    "# # replacing null value with mode value in asymmetry column\n",
    "\n",
    "# index = which(is.na(df$asymmetry))\n",
    "# index\n",
    "\n",
    "# for (i in index)\n",
    "# {\n",
    "#     df$asymmetry[i] = mode_val\n",
    "# }"
   ]
  },
  {
   "cell_type": "code",
   "execution_count": 24,
   "metadata": {},
   "outputs": [],
   "source": [
    "# sapply(df, function(x) sum(is.na(x)))"
   ]
  },
  {
   "cell_type": "code",
   "execution_count": 25,
   "metadata": {},
   "outputs": [
    {
     "data": {
      "text/html": [
       "<table>\n",
       "<caption>A data.frame: 8 × 1</caption>\n",
       "<thead>\n",
       "\t<tr><th></th><th scope=col>colSums(is.na(df))</th></tr>\n",
       "\t<tr><th></th><th scope=col>&lt;dbl&gt;</th></tr>\n",
       "</thead>\n",
       "<tbody>\n",
       "\t<tr><th scope=row>area</th><td>0</td></tr>\n",
       "\t<tr><th scope=row>perimeter</th><td>0</td></tr>\n",
       "\t<tr><th scope=row>compactness</th><td>0</td></tr>\n",
       "\t<tr><th scope=row>length</th><td>0</td></tr>\n",
       "\t<tr><th scope=row>width</th><td>0</td></tr>\n",
       "\t<tr><th scope=row>asymmetry</th><td>0</td></tr>\n",
       "\t<tr><th scope=row>groove</th><td>0</td></tr>\n",
       "\t<tr><th scope=row>type</th><td>0</td></tr>\n",
       "</tbody>\n",
       "</table>\n"
      ],
      "text/latex": [
       "A data.frame: 8 × 1\n",
       "\\begin{tabular}{r|l}\n",
       "  & colSums(is.na(df))\\\\\n",
       "  & <dbl>\\\\\n",
       "\\hline\n",
       "\tarea & 0\\\\\n",
       "\tperimeter & 0\\\\\n",
       "\tcompactness & 0\\\\\n",
       "\tlength & 0\\\\\n",
       "\twidth & 0\\\\\n",
       "\tasymmetry & 0\\\\\n",
       "\tgroove & 0\\\\\n",
       "\ttype & 0\\\\\n",
       "\\end{tabular}\n"
      ],
      "text/markdown": [
       "\n",
       "A data.frame: 8 × 1\n",
       "\n",
       "| <!--/--> | colSums(is.na(df)) &lt;dbl&gt; |\n",
       "|---|---|\n",
       "| area | 0 |\n",
       "| perimeter | 0 |\n",
       "| compactness | 0 |\n",
       "| length | 0 |\n",
       "| width | 0 |\n",
       "| asymmetry | 0 |\n",
       "| groove | 0 |\n",
       "| type | 0 |\n",
       "\n"
      ],
      "text/plain": [
       "            colSums(is.na(df))\n",
       "area        0                 \n",
       "perimeter   0                 \n",
       "compactness 0                 \n",
       "length      0                 \n",
       "width       0                 \n",
       "asymmetry   0                 \n",
       "groove      0                 \n",
       "type        0                 "
      ]
     },
     "metadata": {},
     "output_type": "display_data"
    }
   ],
   "source": [
    "# now let's remove the rows that has null values\n",
    "\n",
    "#Removing the null values\n",
    "\n",
    "library(tidyr)\n",
    "df = drop_na(df)\n",
    "as.data.frame(colSums(is.na(df)))\n",
    "# sapply(df, function(x) sum(is.na(x)))"
   ]
  },
  {
   "cell_type": "markdown",
   "metadata": {},
   "source": [
    "## All Outliers have been removed"
   ]
  },
  {
   "cell_type": "markdown",
   "metadata": {},
   "source": [
    "#### C. Using the corrplot library's corrplot() function, generate a plot showing the correlations between the numerical data in the data set. Show the command used to generate the plot and include the plot in your output."
   ]
  },
  {
   "cell_type": "code",
   "execution_count": 26,
   "metadata": {},
   "outputs": [
    {
     "name": "stderr",
     "output_type": "stream",
     "text": [
      "corrplot 0.84 loaded\n"
     ]
    },
    {
     "data": {
      "image/png": "[encoded data removed]",
      "text/plain": [
       "Plot with title “Correlation Plot”"
      ]
     },
     "metadata": {},
     "output_type": "display_data"
    }
   ],
   "source": [
    "library(corrplot)\n",
    "relation = cor(out)\n",
    "corrplot(relation, title='Correlation Plot', bg='maroon', method='number', tl.col='black')"
   ]
  },
  {
   "cell_type": "markdown",
   "metadata": {},
   "source": [
    "#### D. Partition the beans data set so that 80% will be used for training and 20% will be used for testing your machine learning model. You can do the partition manually at random or use the createDataPartition() function in R's caret library. "
   ]
  },
  {
   "cell_type": "code",
   "execution_count": 8,
   "metadata": {},
   "outputs": [
    {
     "name": "stderr",
     "output_type": "stream",
     "text": [
      "Loading required package: lattice\n",
      "Loading required package: ggplot2\n"
     ]
    }
   ],
   "source": [
    "library(caret)"
   ]
  },
  {
   "cell_type": "code",
   "execution_count": 35,
   "metadata": {},
   "outputs": [],
   "source": [
    "intrain <- createDataPartition(y = df$type, p= 0.8, list = FALSE)\n",
    "train <- df[intrain,]\n",
    "test <- df[-intrain,]"
   ]
  },
  {
   "cell_type": "code",
   "execution_count": 36,
   "metadata": {},
   "outputs": [
    {
     "data": {
      "text/html": [
       "<ol class=list-inline>\n",
       "\t<li>158</li>\n",
       "\t<li>8</li>\n",
       "</ol>\n"
      ],
      "text/latex": [
       "\\begin{enumerate*}\n",
       "\\item 158\n",
       "\\item 8\n",
       "\\end{enumerate*}\n"
      ],
      "text/markdown": [
       "1. 158\n",
       "2. 8\n",
       "\n",
       "\n"
      ],
      "text/plain": [
       "[1] 158   8"
      ]
     },
     "metadata": {},
     "output_type": "display_data"
    }
   ],
   "source": [
    "dim(train)"
   ]
  },
  {
   "cell_type": "code",
   "execution_count": 37,
   "metadata": {},
   "outputs": [
    {
     "data": {
      "text/html": [
       "<ol class=list-inline>\n",
       "\t<li>37</li>\n",
       "\t<li>8</li>\n",
       "</ol>\n"
      ],
      "text/latex": [
       "\\begin{enumerate*}\n",
       "\\item 37\n",
       "\\item 8\n",
       "\\end{enumerate*}\n"
      ],
      "text/markdown": [
       "1. 37\n",
       "2. 8\n",
       "\n",
       "\n"
      ],
      "text/plain": [
       "[1] 37  8"
      ]
     },
     "metadata": {},
     "output_type": "display_data"
    }
   ],
   "source": [
    "dim(test)"
   ]
  },
  {
   "cell_type": "markdown",
   "metadata": {},
   "source": [
    "#### E. Use the support vector machine (SVM) method with a linear basis function kernel from R's caret library to generate a machine learning model for the 7 types of wheat seeds based on some or all features provided in the data set. Using the caret library's trainControl() function, check your model parameter and feature selection by performing repeated cross-validation (with 5-folds) on the training data for your model. Consult the caret library documentation as needed."
   ]
  },
  {
   "cell_type": "code",
   "execution_count": 33,
   "metadata": {},
   "outputs": [],
   "source": [
    "train[[\"type\"]] = factor(train[[\"type\"]])"
   ]
  },
  {
   "cell_type": "code",
   "execution_count": 43,
   "metadata": {},
   "outputs": [
    {
     "data": {
      "text/html": [
       "<table>\n",
       "<caption>A data.frame: 3 × 1</caption>\n",
       "<thead>\n",
       "\t<tr><th></th><th scope=col>type</th></tr>\n",
       "\t<tr><th></th><th scope=col>&lt;fct&gt;</th></tr>\n",
       "</thead>\n",
       "<tbody>\n",
       "\t<tr><th scope=row>2</th><td>A</td></tr>\n",
       "\t<tr><th scope=row>69</th><td>B</td></tr>\n",
       "\t<tr><th scope=row>138</th><td>C</td></tr>\n",
       "</tbody>\n",
       "</table>\n"
      ],
      "text/latex": [
       "A data.frame: 3 × 1\n",
       "\\begin{tabular}{r|l}\n",
       "  & type\\\\\n",
       "  & <fct>\\\\\n",
       "\\hline\n",
       "\t2 & A\\\\\n",
       "\t69 & B\\\\\n",
       "\t138 & C\\\\\n",
       "\\end{tabular}\n"
      ],
      "text/markdown": [
       "\n",
       "A data.frame: 3 × 1\n",
       "\n",
       "| <!--/--> | type &lt;fct&gt; |\n",
       "|---|---|\n",
       "| 2 | A |\n",
       "| 69 | B |\n",
       "| 138 | C |\n",
       "\n"
      ],
      "text/plain": [
       "    type\n",
       "2   A   \n",
       "69  B   \n",
       "138 C   "
      ]
     },
     "metadata": {},
     "output_type": "display_data"
    }
   ],
   "source": [
    "unique(train['type'])"
   ]
  },
  {
   "cell_type": "code",
   "execution_count": 44,
   "metadata": {},
   "outputs": [],
   "source": [
    "# using repeated CV with 5 folds\n",
    "\n",
    "trctrl <- trainControl(method = \"repeatedcv\", number = 5)"
   ]
  },
  {
   "cell_type": "code",
   "execution_count": 47,
   "metadata": {},
   "outputs": [],
   "source": [
    "# Using SVM with linear basis function\n",
    "\n",
    "svm_linear <- train(type ~., data = train, method = \"svmLinear\",trControl=trctrl, tuneLength = 5) "
   ]
  },
  {
   "cell_type": "code",
   "execution_count": 48,
   "metadata": {},
   "outputs": [
    {
     "data": {
      "text/plain": [
       "Support Vector Machines with Linear Kernel \n",
       "\n",
       "158 samples\n",
       "  7 predictor\n",
       "  3 classes: 'A', 'B', 'C' \n",
       "\n",
       "No pre-processing\n",
       "Resampling: Cross-Validated (5 fold, repeated 1 times) \n",
       "Summary of sample sizes: 127, 126, 126, 127, 126 \n",
       "Resampling results:\n",
       "\n",
       "  Accuracy   Kappa    \n",
       "  0.9243952  0.8865593\n",
       "\n",
       "Tuning parameter 'C' was held constant at a value of 1"
      ]
     },
     "metadata": {},
     "output_type": "display_data"
    }
   ],
   "source": [
    "svm_linear"
   ]
  },
  {
   "cell_type": "markdown",
   "metadata": {},
   "source": [
    "#### F. Use the test data set (i.e. the 20% of the data that was kept aside earlier) to generate a final validation for your model with the predict() function in the caret library. Comment on the accuracy of the model. "
   ]
  },
  {
   "cell_type": "code",
   "execution_count": 49,
   "metadata": {},
   "outputs": [
    {
     "data": {
      "text/html": [
       "<ol class=list-inline>\n",
       "\t<li>A</li>\n",
       "\t<li>A</li>\n",
       "\t<li>A</li>\n",
       "\t<li>A</li>\n",
       "\t<li>A</li>\n",
       "\t<li>A</li>\n",
       "\t<li>A</li>\n",
       "\t<li>A</li>\n",
       "\t<li>A</li>\n",
       "\t<li>A</li>\n",
       "\t<li>A</li>\n",
       "\t<li>A</li>\n",
       "\t<li>A</li>\n",
       "\t<li>B</li>\n",
       "\t<li>B</li>\n",
       "\t<li>B</li>\n",
       "\t<li>B</li>\n",
       "\t<li>B</li>\n",
       "\t<li>B</li>\n",
       "\t<li>B</li>\n",
       "\t<li>B</li>\n",
       "\t<li>B</li>\n",
       "\t<li>B</li>\n",
       "\t<li>B</li>\n",
       "\t<li>B</li>\n",
       "\t<li>B</li>\n",
       "\t<li>C</li>\n",
       "\t<li>C</li>\n",
       "\t<li>C</li>\n",
       "\t<li>A</li>\n",
       "\t<li>C</li>\n",
       "\t<li>C</li>\n",
       "\t<li>C</li>\n",
       "\t<li>C</li>\n",
       "\t<li>A</li>\n",
       "\t<li>A</li>\n",
       "\t<li>A</li>\n",
       "</ol>\n",
       "\n",
       "<details>\n",
       "\t<summary style=display:list-item;cursor:pointer>\n",
       "\t\t<strong>Levels</strong>:\n",
       "\t</summary>\n",
       "\t<ol class=list-inline>\n",
       "\t\t<li>'A'</li>\n",
       "\t\t<li>'B'</li>\n",
       "\t\t<li>'C'</li>\n",
       "\t</ol>\n",
       "</details>"
      ],
      "text/latex": [
       "\\begin{enumerate*}\n",
       "\\item A\n",
       "\\item A\n",
       "\\item A\n",
       "\\item A\n",
       "\\item A\n",
       "\\item A\n",
       "\\item A\n",
       "\\item A\n",
       "\\item A\n",
       "\\item A\n",
       "\\item A\n",
       "\\item A\n",
       "\\item A\n",
       "\\item B\n",
       "\\item B\n",
       "\\item B\n",
       "\\item B\n",
       "\\item B\n",
       "\\item B\n",
       "\\item B\n",
       "\\item B\n",
       "\\item B\n",
       "\\item B\n",
       "\\item B\n",
       "\\item B\n",
       "\\item B\n",
       "\\item C\n",
       "\\item C\n",
       "\\item C\n",
       "\\item A\n",
       "\\item C\n",
       "\\item C\n",
       "\\item C\n",
       "\\item C\n",
       "\\item A\n",
       "\\item A\n",
       "\\item A\n",
       "\\end{enumerate*}\n",
       "\n",
       "\\emph{Levels}: \\begin{enumerate*}\n",
       "\\item 'A'\n",
       "\\item 'B'\n",
       "\\item 'C'\n",
       "\\end{enumerate*}\n"
      ],
      "text/markdown": [
       "1. A\n",
       "2. A\n",
       "3. A\n",
       "4. A\n",
       "5. A\n",
       "6. A\n",
       "7. A\n",
       "8. A\n",
       "9. A\n",
       "10. A\n",
       "11. A\n",
       "12. A\n",
       "13. A\n",
       "14. B\n",
       "15. B\n",
       "16. B\n",
       "17. B\n",
       "18. B\n",
       "19. B\n",
       "20. B\n",
       "21. B\n",
       "22. B\n",
       "23. B\n",
       "24. B\n",
       "25. B\n",
       "26. B\n",
       "27. C\n",
       "28. C\n",
       "29. C\n",
       "30. A\n",
       "31. C\n",
       "32. C\n",
       "33. C\n",
       "34. C\n",
       "35. A\n",
       "36. A\n",
       "37. A\n",
       "\n",
       "\n",
       "\n",
       "**Levels**: 1. 'A'\n",
       "2. 'B'\n",
       "3. 'C'\n",
       "\n",
       "\n"
      ],
      "text/plain": [
       " [1] A A A A A A A A A A A A A B B B B B B B B B B B B B C C C A C C C C A A A\n",
       "Levels: A B C"
      ]
     },
     "metadata": {},
     "output_type": "display_data"
    }
   ],
   "source": [
    "# let's apply our model to the test set \n",
    "\n",
    "test_pred <- predict(svm_linear, newdata = test)\n",
    "test_pred"
   ]
  },
  {
   "cell_type": "code",
   "execution_count": null,
   "metadata": {},
   "outputs": [],
   "source": [
    "# Compute model prediction accuracy rate\n",
    "\n",
    "mean(test_pred == test$type)"
   ]
  },
  {
   "cell_type": "code",
   "execution_count": 52,
   "metadata": {},
   "outputs": [
    {
     "data": {
      "text/plain": [
       "Confusion Matrix and Statistics\n",
       "\n",
       "         \n",
       "test_pred  A  B  C\n",
       "        A 13  0  4\n",
       "        B  0 13  0\n",
       "        C  0  0  7\n",
       "\n",
       "Overall Statistics\n",
       "                                          \n",
       "               Accuracy : 0.8919          \n",
       "                 95% CI : (0.7458, 0.9697)\n",
       "    No Information Rate : 0.3514          \n",
       "    P-Value [Acc > NIR] : 1.275e-11       \n",
       "                                          \n",
       "                  Kappa : 0.8359          \n",
       "                                          \n",
       " Mcnemar's Test P-Value : NA              \n",
       "\n",
       "Statistics by Class:\n",
       "\n",
       "                     Class: A Class: B Class: C\n",
       "Sensitivity            1.0000   1.0000   0.6364\n",
       "Specificity            0.8333   1.0000   1.0000\n",
       "Pos Pred Value         0.7647   1.0000   1.0000\n",
       "Neg Pred Value         1.0000   1.0000   0.8667\n",
       "Prevalence             0.3514   0.3514   0.2973\n",
       "Detection Rate         0.3514   0.3514   0.1892\n",
       "Detection Prevalence   0.4595   0.3514   0.1892\n",
       "Balanced Accuracy      0.9167   1.0000   0.8182"
      ]
     },
     "metadata": {},
     "output_type": "display_data"
    }
   ],
   "source": [
    "confusionMatrix(table(test_pred, test$type))"
   ]
  },
  {
   "cell_type": "markdown",
   "metadata": {},
   "source": [
    "### The accuracy of the model is 89.19%"
   ]
  },
  {
   "cell_type": "markdown",
   "metadata": {},
   "source": [
    "#### G. Based on your model, classify the beans provided in the unlabeled /public/bmort/R/wheat-unknown.csv data set. Indicate which classification of the 7 available types has been assigned to each of the unlabeled seeds"
   ]
  },
  {
   "cell_type": "code",
   "execution_count": 60,
   "metadata": {},
   "outputs": [
    {
     "data": {
      "text/html": [
       "<ol class=list-inline>\n",
       "\t<li>10</li>\n",
       "\t<li>7</li>\n",
       "</ol>\n"
      ],
      "text/latex": [
       "\\begin{enumerate*}\n",
       "\\item 10\n",
       "\\item 7\n",
       "\\end{enumerate*}\n"
      ],
      "text/markdown": [
       "1. 10\n",
       "2. 7\n",
       "\n",
       "\n"
      ],
      "text/plain": [
       "[1] 10  7"
      ]
     },
     "metadata": {},
     "output_type": "display_data"
    }
   ],
   "source": [
    "unknown = read.csv('/public/bmort/R/wheat-unknown.csv')\n",
    "dim(unknown)"
   ]
  },
  {
   "cell_type": "code",
   "execution_count": 61,
   "metadata": {},
   "outputs": [
    {
     "data": {
      "text/html": [
       "<ol class=list-inline>\n",
       "\t<li>B</li>\n",
       "\t<li>B</li>\n",
       "\t<li>B</li>\n",
       "\t<li>B</li>\n",
       "\t<li>B</li>\n",
       "\t<li>B</li>\n",
       "\t<li>B</li>\n",
       "\t<li>B</li>\n",
       "\t<li>B</li>\n",
       "\t<li>B</li>\n",
       "</ol>\n",
       "\n",
       "<details>\n",
       "\t<summary style=display:list-item;cursor:pointer>\n",
       "\t\t<strong>Levels</strong>:\n",
       "\t</summary>\n",
       "\t<ol class=list-inline>\n",
       "\t\t<li>'A'</li>\n",
       "\t\t<li>'B'</li>\n",
       "\t\t<li>'C'</li>\n",
       "\t</ol>\n",
       "</details>"
      ],
      "text/latex": [
       "\\begin{enumerate*}\n",
       "\\item B\n",
       "\\item B\n",
       "\\item B\n",
       "\\item B\n",
       "\\item B\n",
       "\\item B\n",
       "\\item B\n",
       "\\item B\n",
       "\\item B\n",
       "\\item B\n",
       "\\end{enumerate*}\n",
       "\n",
       "\\emph{Levels}: \\begin{enumerate*}\n",
       "\\item 'A'\n",
       "\\item 'B'\n",
       "\\item 'C'\n",
       "\\end{enumerate*}\n"
      ],
      "text/markdown": [
       "1. B\n",
       "2. B\n",
       "3. B\n",
       "4. B\n",
       "5. B\n",
       "6. B\n",
       "7. B\n",
       "8. B\n",
       "9. B\n",
       "10. B\n",
       "\n",
       "\n",
       "\n",
       "**Levels**: 1. 'A'\n",
       "2. 'B'\n",
       "3. 'C'\n",
       "\n",
       "\n"
      ],
      "text/plain": [
       " [1] B B B B B B B B B B\n",
       "Levels: A B C"
      ]
     },
     "metadata": {},
     "output_type": "display_data"
    }
   ],
   "source": [
    "test_pred <- predict(svm_linear, newdata = unknown)\n",
    "test_pred"
   ]
  },
  {
   "cell_type": "code",
   "execution_count": 62,
   "metadata": {},
   "outputs": [],
   "source": [
    "unknown$type = test_pred"
   ]
  },
  {
   "cell_type": "code",
   "execution_count": 63,
   "metadata": {},
   "outputs": [
    {
     "data": {
      "text/html": [
       "<table>\n",
       "<caption>A data.frame: 10 × 8</caption>\n",
       "<thead>\n",
       "\t<tr><th scope=col>area</th><th scope=col>perimeter</th><th scope=col>compactness</th><th scope=col>length</th><th scope=col>width</th><th scope=col>asymmetry</th><th scope=col>groove</th><th scope=col>type</th></tr>\n",
       "\t<tr><th scope=col>&lt;dbl&gt;</th><th scope=col>&lt;dbl&gt;</th><th scope=col>&lt;dbl&gt;</th><th scope=col>&lt;dbl&gt;</th><th scope=col>&lt;dbl&gt;</th><th scope=col>&lt;dbl&gt;</th><th scope=col>&lt;dbl&gt;</th><th scope=col>&lt;fct&gt;</th></tr>\n",
       "</thead>\n",
       "<tbody>\n",
       "\t<tr><td>11.56</td><td>13.31</td><td>0.8198</td><td>5.363</td><td>2.683</td><td>4.062</td><td>5.182</td><td>B</td></tr>\n",
       "\t<tr><td>14.79</td><td>14.52</td><td>0.8819</td><td>5.545</td><td>3.291</td><td>2.704</td><td>5.111</td><td>B</td></tr>\n",
       "\t<tr><td>10.82</td><td>12.83</td><td>0.8256</td><td>5.180</td><td>2.630</td><td>4.853</td><td>5.089</td><td>B</td></tr>\n",
       "\t<tr><td>13.32</td><td>13.94</td><td>0.8613</td><td>5.541</td><td>3.073</td><td>7.035</td><td>5.440</td><td>B</td></tr>\n",
       "\t<tr><td>11.49</td><td>13.22</td><td>0.8263</td><td>5.304</td><td>2.695</td><td>5.388</td><td>5.310</td><td>B</td></tr>\n",
       "\t<tr><td>10.83</td><td>12.96</td><td>0.8099</td><td>5.278</td><td>2.641</td><td>5.182</td><td>5.185</td><td>B</td></tr>\n",
       "\t<tr><td>15.11</td><td>14.54</td><td>0.8986</td><td>5.579</td><td>3.462</td><td>3.128</td><td>5.180</td><td>B</td></tr>\n",
       "\t<tr><td>11.19</td><td>13.05</td><td>0.8253</td><td>5.250</td><td>2.675</td><td>5.813</td><td>5.219</td><td>B</td></tr>\n",
       "\t<tr><td>12.02</td><td>13.33</td><td>0.8503</td><td>5.350</td><td>2.810</td><td>4.271</td><td>5.308</td><td>B</td></tr>\n",
       "\t<tr><td>17.99</td><td>15.86</td><td>0.8992</td><td>5.890</td><td>3.694</td><td>2.068</td><td>5.837</td><td>B</td></tr>\n",
       "</tbody>\n",
       "</table>\n"
      ],
      "text/latex": [
       "A data.frame: 10 × 8\n",
       "\\begin{tabular}{r|llllllll}\n",
       " area & perimeter & compactness & length & width & asymmetry & groove & type\\\\\n",
       " <dbl> & <dbl> & <dbl> & <dbl> & <dbl> & <dbl> & <dbl> & <fct>\\\\\n",
       "\\hline\n",
       "\t 11.56 & 13.31 & 0.8198 & 5.363 & 2.683 & 4.062 & 5.182 & B\\\\\n",
       "\t 14.79 & 14.52 & 0.8819 & 5.545 & 3.291 & 2.704 & 5.111 & B\\\\\n",
       "\t 10.82 & 12.83 & 0.8256 & 5.180 & 2.630 & 4.853 & 5.089 & B\\\\\n",
       "\t 13.32 & 13.94 & 0.8613 & 5.541 & 3.073 & 7.035 & 5.440 & B\\\\\n",
       "\t 11.49 & 13.22 & 0.8263 & 5.304 & 2.695 & 5.388 & 5.310 & B\\\\\n",
       "\t 10.83 & 12.96 & 0.8099 & 5.278 & 2.641 & 5.182 & 5.185 & B\\\\\n",
       "\t 15.11 & 14.54 & 0.8986 & 5.579 & 3.462 & 3.128 & 5.180 & B\\\\\n",
       "\t 11.19 & 13.05 & 0.8253 & 5.250 & 2.675 & 5.813 & 5.219 & B\\\\\n",
       "\t 12.02 & 13.33 & 0.8503 & 5.350 & 2.810 & 4.271 & 5.308 & B\\\\\n",
       "\t 17.99 & 15.86 & 0.8992 & 5.890 & 3.694 & 2.068 & 5.837 & B\\\\\n",
       "\\end{tabular}\n"
      ],
      "text/markdown": [
       "\n",
       "A data.frame: 10 × 8\n",
       "\n",
       "| area &lt;dbl&gt; | perimeter &lt;dbl&gt; | compactness &lt;dbl&gt; | length &lt;dbl&gt; | width &lt;dbl&gt; | asymmetry &lt;dbl&gt; | groove &lt;dbl&gt; | type &lt;fct&gt; |\n",
       "|---|---|---|---|---|---|---|---|\n",
       "| 11.56 | 13.31 | 0.8198 | 5.363 | 2.683 | 4.062 | 5.182 | B |\n",
       "| 14.79 | 14.52 | 0.8819 | 5.545 | 3.291 | 2.704 | 5.111 | B |\n",
       "| 10.82 | 12.83 | 0.8256 | 5.180 | 2.630 | 4.853 | 5.089 | B |\n",
       "| 13.32 | 13.94 | 0.8613 | 5.541 | 3.073 | 7.035 | 5.440 | B |\n",
       "| 11.49 | 13.22 | 0.8263 | 5.304 | 2.695 | 5.388 | 5.310 | B |\n",
       "| 10.83 | 12.96 | 0.8099 | 5.278 | 2.641 | 5.182 | 5.185 | B |\n",
       "| 15.11 | 14.54 | 0.8986 | 5.579 | 3.462 | 3.128 | 5.180 | B |\n",
       "| 11.19 | 13.05 | 0.8253 | 5.250 | 2.675 | 5.813 | 5.219 | B |\n",
       "| 12.02 | 13.33 | 0.8503 | 5.350 | 2.810 | 4.271 | 5.308 | B |\n",
       "| 17.99 | 15.86 | 0.8992 | 5.890 | 3.694 | 2.068 | 5.837 | B |\n",
       "\n"
      ],
      "text/plain": [
       "   area  perimeter compactness length width asymmetry groove type\n",
       "1  11.56 13.31     0.8198      5.363  2.683 4.062     5.182  B   \n",
       "2  14.79 14.52     0.8819      5.545  3.291 2.704     5.111  B   \n",
       "3  10.82 12.83     0.8256      5.180  2.630 4.853     5.089  B   \n",
       "4  13.32 13.94     0.8613      5.541  3.073 7.035     5.440  B   \n",
       "5  11.49 13.22     0.8263      5.304  2.695 5.388     5.310  B   \n",
       "6  10.83 12.96     0.8099      5.278  2.641 5.182     5.185  B   \n",
       "7  15.11 14.54     0.8986      5.579  3.462 3.128     5.180  B   \n",
       "8  11.19 13.05     0.8253      5.250  2.675 5.813     5.219  B   \n",
       "9  12.02 13.33     0.8503      5.350  2.810 4.271     5.308  B   \n",
       "10 17.99 15.86     0.8992      5.890  3.694 2.068     5.837  B   "
      ]
     },
     "metadata": {},
     "output_type": "display_data"
    }
   ],
   "source": [
    "unknown"
   ]
  },
  {
   "cell_type": "markdown",
   "metadata": {},
   "source": [
    "## Approach - 2 Without normalizing and not removing the outliers as outliers have some significant information"
   ]
  },
  {
   "cell_type": "code",
   "execution_count": 1,
   "metadata": {},
   "outputs": [],
   "source": [
    "df = read.csv(\"/public/bmort/R/wheat.csv\")"
   ]
  },
  {
   "cell_type": "code",
   "execution_count": 2,
   "metadata": {},
   "outputs": [],
   "source": [
    "# finding mode value\n",
    "\n",
    "find_mode <- function(x) {\n",
    "  u <- unique(x)\n",
    "  tab <- tabulate(match(x, u))\n",
    "  u[tab == max(tab)]\n",
    "}\n",
    "\n",
    "mode_val = find_mode(df$width)"
   ]
  },
  {
   "cell_type": "code",
   "execution_count": 3,
   "metadata": {},
   "outputs": [],
   "source": [
    "# replacing null value with mode value\n",
    "\n",
    "# which(is.na(df$width))\n",
    "df$width[8] = mode_val"
   ]
  },
  {
   "cell_type": "code",
   "execution_count": 4,
   "metadata": {},
   "outputs": [
    {
     "data": {
      "text/html": [
       "<dl class=dl-horizontal>\n",
       "\t<dt>area</dt>\n",
       "\t\t<dd>0</dd>\n",
       "\t<dt>perimeter</dt>\n",
       "\t\t<dd>0</dd>\n",
       "\t<dt>compactness</dt>\n",
       "\t\t<dd>0</dd>\n",
       "\t<dt>length</dt>\n",
       "\t\t<dd>0</dd>\n",
       "\t<dt>width</dt>\n",
       "\t\t<dd>0</dd>\n",
       "\t<dt>asymmetry</dt>\n",
       "\t\t<dd>0</dd>\n",
       "\t<dt>groove</dt>\n",
       "\t\t<dd>0</dd>\n",
       "\t<dt>type</dt>\n",
       "\t\t<dd>0</dd>\n",
       "</dl>\n"
      ],
      "text/latex": [
       "\\begin{description*}\n",
       "\\item[area] 0\n",
       "\\item[perimeter] 0\n",
       "\\item[compactness] 0\n",
       "\\item[length] 0\n",
       "\\item[width] 0\n",
       "\\item[asymmetry] 0\n",
       "\\item[groove] 0\n",
       "\\item[type] 0\n",
       "\\end{description*}\n"
      ],
      "text/markdown": [
       "area\n",
       ":   0perimeter\n",
       ":   0compactness\n",
       ":   0length\n",
       ":   0width\n",
       ":   0asymmetry\n",
       ":   0groove\n",
       ":   0type\n",
       ":   0\n",
       "\n"
      ],
      "text/plain": [
       "       area   perimeter compactness      length       width   asymmetry \n",
       "          0           0           0           0           0           0 \n",
       "     groove        type \n",
       "          0           0 "
      ]
     },
     "metadata": {},
     "output_type": "display_data"
    }
   ],
   "source": [
    "sapply(df, function(x) sum(is.na(x)))"
   ]
  },
  {
   "cell_type": "code",
   "execution_count": 5,
   "metadata": {},
   "outputs": [
    {
     "data": {
      "text/plain": [
       "      area         perimeter      compactness         length     \n",
       " Min.   :10.59   Min.   :12.41   Min.   :0.8081   Min.   :4.899  \n",
       " 1st Qu.:12.38   1st Qu.:13.47   1st Qu.:0.8583   1st Qu.:5.257  \n",
       " Median :14.40   Median :14.38   Median :0.8745   Median :5.534  \n",
       " Mean   :14.94   Mean   :14.60   Mean   :0.8721   Mean   :5.639  \n",
       " 3rd Qu.:17.41   3rd Qu.:15.78   3rd Qu.:0.8879   3rd Qu.:6.009  \n",
       " Max.   :21.18   Max.   :17.25   Max.   :0.9183   Max.   :6.675  \n",
       "     width         asymmetry          groove      type  \n",
       " Min.   :2.642   Min.   :0.7651   Min.   :4.519   A:68  \n",
       " 1st Qu.:2.965   1st Qu.:2.4935   1st Qu.:5.043   B:69  \n",
       " Median :3.244   Median :3.5915   Median :5.226   C:63  \n",
       " Mean   :3.272   Mean   :3.6627   Mean   :5.414         \n",
       " 3rd Qu.:3.564   3rd Qu.:4.7043   3rd Qu.:5.879         \n",
       " Max.   :4.033   Max.   :8.4560   Max.   :6.550         "
      ]
     },
     "metadata": {},
     "output_type": "display_data"
    }
   ],
   "source": [
    "summary(df)"
   ]
  },
  {
   "cell_type": "code",
   "execution_count": 7,
   "metadata": {},
   "outputs": [
    {
     "data": {
      "image/png": "[encoded data removed]",
      "text/plain": [
       "Plot with title “Correlation Plot”"
      ]
     },
     "metadata": {},
     "output_type": "display_data"
    }
   ],
   "source": [
    "library(corrplot)\n",
    "out = df[1:7]\n",
    "relation = cor(out)\n",
    "corrplot(relation, title='Correlation Plot', bg='maroon', method='number', tl.col='black')"
   ]
  },
  {
   "cell_type": "code",
   "execution_count": 9,
   "metadata": {},
   "outputs": [],
   "source": [
    "intrain <- createDataPartition(y = df$type, p= 0.8, list = FALSE)\n",
    "train <- df[intrain,]\n",
    "test <- df[-intrain,]"
   ]
  },
  {
   "cell_type": "code",
   "execution_count": 10,
   "metadata": {},
   "outputs": [],
   "source": [
    "train[[\"type\"]] = factor(train[[\"type\"]])"
   ]
  },
  {
   "cell_type": "code",
   "execution_count": 11,
   "metadata": {},
   "outputs": [],
   "source": [
    "# using repeated CV with 5 folds\n",
    "\n",
    "trctrl <- trainControl(method = \"repeatedcv\", number = 5)"
   ]
  },
  {
   "cell_type": "code",
   "execution_count": 12,
   "metadata": {},
   "outputs": [],
   "source": [
    "# Using SVM with linear basis function\n",
    "\n",
    "svm_linear <- train(type ~., data = train, method = \"svmLinear\",trControl=trctrl, tuneLength = 5) "
   ]
  },
  {
   "cell_type": "code",
   "execution_count": 13,
   "metadata": {},
   "outputs": [
    {
     "data": {
      "text/plain": [
       "Support Vector Machines with Linear Kernel \n",
       "\n",
       "162 samples\n",
       "  7 predictor\n",
       "  3 classes: 'A', 'B', 'C' \n",
       "\n",
       "No pre-processing\n",
       "Resampling: Cross-Validated (5 fold, repeated 1 times) \n",
       "Summary of sample sizes: 130, 130, 128, 130, 130 \n",
       "Resampling results:\n",
       "\n",
       "  Accuracy   Kappa    \n",
       "  0.9378676  0.9067272\n",
       "\n",
       "Tuning parameter 'C' was held constant at a value of 1"
      ]
     },
     "metadata": {},
     "output_type": "display_data"
    }
   ],
   "source": [
    "svm_linear"
   ]
  },
  {
   "cell_type": "code",
   "execution_count": 14,
   "metadata": {},
   "outputs": [
    {
     "data": {
      "text/html": [
       "<ol class=list-inline>\n",
       "\t<li>A</li>\n",
       "\t<li>A</li>\n",
       "\t<li>A</li>\n",
       "\t<li>C</li>\n",
       "\t<li>A</li>\n",
       "\t<li>A</li>\n",
       "\t<li>A</li>\n",
       "\t<li>A</li>\n",
       "\t<li>A</li>\n",
       "\t<li>A</li>\n",
       "\t<li>A</li>\n",
       "\t<li>C</li>\n",
       "\t<li>A</li>\n",
       "\t<li>B</li>\n",
       "\t<li>B</li>\n",
       "\t<li>B</li>\n",
       "\t<li>B</li>\n",
       "\t<li>B</li>\n",
       "\t<li>B</li>\n",
       "\t<li>B</li>\n",
       "\t<li>B</li>\n",
       "\t<li>B</li>\n",
       "\t<li>B</li>\n",
       "\t<li>B</li>\n",
       "\t<li>B</li>\n",
       "\t<li>B</li>\n",
       "\t<li>C</li>\n",
       "\t<li>C</li>\n",
       "\t<li>C</li>\n",
       "\t<li>C</li>\n",
       "\t<li>C</li>\n",
       "\t<li>C</li>\n",
       "\t<li>C</li>\n",
       "\t<li>C</li>\n",
       "\t<li>C</li>\n",
       "\t<li>C</li>\n",
       "\t<li>A</li>\n",
       "\t<li>A</li>\n",
       "</ol>\n",
       "\n",
       "<details>\n",
       "\t<summary style=display:list-item;cursor:pointer>\n",
       "\t\t<strong>Levels</strong>:\n",
       "\t</summary>\n",
       "\t<ol class=list-inline>\n",
       "\t\t<li>'A'</li>\n",
       "\t\t<li>'B'</li>\n",
       "\t\t<li>'C'</li>\n",
       "\t</ol>\n",
       "</details>"
      ],
      "text/latex": [
       "\\begin{enumerate*}\n",
       "\\item A\n",
       "\\item A\n",
       "\\item A\n",
       "\\item C\n",
       "\\item A\n",
       "\\item A\n",
       "\\item A\n",
       "\\item A\n",
       "\\item A\n",
       "\\item A\n",
       "\\item A\n",
       "\\item C\n",
       "\\item A\n",
       "\\item B\n",
       "\\item B\n",
       "\\item B\n",
       "\\item B\n",
       "\\item B\n",
       "\\item B\n",
       "\\item B\n",
       "\\item B\n",
       "\\item B\n",
       "\\item B\n",
       "\\item B\n",
       "\\item B\n",
       "\\item B\n",
       "\\item C\n",
       "\\item C\n",
       "\\item C\n",
       "\\item C\n",
       "\\item C\n",
       "\\item C\n",
       "\\item C\n",
       "\\item C\n",
       "\\item C\n",
       "\\item C\n",
       "\\item A\n",
       "\\item A\n",
       "\\end{enumerate*}\n",
       "\n",
       "\\emph{Levels}: \\begin{enumerate*}\n",
       "\\item 'A'\n",
       "\\item 'B'\n",
       "\\item 'C'\n",
       "\\end{enumerate*}\n"
      ],
      "text/markdown": [
       "1. A\n",
       "2. A\n",
       "3. A\n",
       "4. C\n",
       "5. A\n",
       "6. A\n",
       "7. A\n",
       "8. A\n",
       "9. A\n",
       "10. A\n",
       "11. A\n",
       "12. C\n",
       "13. A\n",
       "14. B\n",
       "15. B\n",
       "16. B\n",
       "17. B\n",
       "18. B\n",
       "19. B\n",
       "20. B\n",
       "21. B\n",
       "22. B\n",
       "23. B\n",
       "24. B\n",
       "25. B\n",
       "26. B\n",
       "27. C\n",
       "28. C\n",
       "29. C\n",
       "30. C\n",
       "31. C\n",
       "32. C\n",
       "33. C\n",
       "34. C\n",
       "35. C\n",
       "36. C\n",
       "37. A\n",
       "38. A\n",
       "\n",
       "\n",
       "\n",
       "**Levels**: 1. 'A'\n",
       "2. 'B'\n",
       "3. 'C'\n",
       "\n",
       "\n"
      ],
      "text/plain": [
       " [1] A A A C A A A A A A A C A B B B B B B B B B B B B B C C C C C C C C C C A A\n",
       "Levels: A B C"
      ]
     },
     "metadata": {},
     "output_type": "display_data"
    }
   ],
   "source": [
    "# let's apply our model to the test set \n",
    "\n",
    "test_pred <- predict(svm_linear, newdata = test)\n",
    "test_pred"
   ]
  },
  {
   "cell_type": "code",
   "execution_count": 15,
   "metadata": {},
   "outputs": [
    {
     "data": {
      "text/html": [
       "0.894736842105263"
      ],
      "text/latex": [
       "0.894736842105263"
      ],
      "text/markdown": [
       "0.894736842105263"
      ],
      "text/plain": [
       "[1] 0.8947368"
      ]
     },
     "metadata": {},
     "output_type": "display_data"
    }
   ],
   "source": [
    "# Compute model prediction accuracy rate\n",
    "\n",
    "mean(test_pred == test$type)"
   ]
  },
  {
   "cell_type": "code",
   "execution_count": 16,
   "metadata": {},
   "outputs": [
    {
     "data": {
      "text/plain": [
       "Confusion Matrix and Statistics\n",
       "\n",
       "         \n",
       "test_pred  A  B  C\n",
       "        A 11  0  2\n",
       "        B  0 13  0\n",
       "        C  2  0 10\n",
       "\n",
       "Overall Statistics\n",
       "                                         \n",
       "               Accuracy : 0.8947         \n",
       "                 95% CI : (0.752, 0.9706)\n",
       "    No Information Rate : 0.3421         \n",
       "    P-Value [Acc > NIR] : 2.13e-12       \n",
       "                                         \n",
       "                  Kappa : 0.842          \n",
       "                                         \n",
       " Mcnemar's Test P-Value : NA             \n",
       "\n",
       "Statistics by Class:\n",
       "\n",
       "                     Class: A Class: B Class: C\n",
       "Sensitivity            0.8462   1.0000   0.8333\n",
       "Specificity            0.9200   1.0000   0.9231\n",
       "Pos Pred Value         0.8462   1.0000   0.8333\n",
       "Neg Pred Value         0.9200   1.0000   0.9231\n",
       "Prevalence             0.3421   0.3421   0.3158\n",
       "Detection Rate         0.2895   0.3421   0.2632\n",
       "Detection Prevalence   0.3421   0.3421   0.3158\n",
       "Balanced Accuracy      0.8831   1.0000   0.8782"
      ]
     },
     "metadata": {},
     "output_type": "display_data"
    }
   ],
   "source": [
    "confusionMatrix(table(test_pred, test$type))"
   ]
  },
  {
   "cell_type": "code",
   "execution_count": 17,
   "metadata": {},
   "outputs": [
    {
     "data": {
      "text/html": [
       "<ol class=list-inline>\n",
       "\t<li>10</li>\n",
       "\t<li>7</li>\n",
       "</ol>\n"
      ],
      "text/latex": [
       "\\begin{enumerate*}\n",
       "\\item 10\n",
       "\\item 7\n",
       "\\end{enumerate*}\n"
      ],
      "text/markdown": [
       "1. 10\n",
       "2. 7\n",
       "\n",
       "\n"
      ],
      "text/plain": [
       "[1] 10  7"
      ]
     },
     "metadata": {},
     "output_type": "display_data"
    }
   ],
   "source": [
    "unknown = read.csv('/public/bmort/R/wheat-unknown.csv')\n",
    "dim(unknown)"
   ]
  },
  {
   "cell_type": "code",
   "execution_count": 18,
   "metadata": {},
   "outputs": [
    {
     "data": {
      "text/html": [
       "<ol class=list-inline>\n",
       "\t<li>C</li>\n",
       "\t<li>A</li>\n",
       "\t<li>C</li>\n",
       "\t<li>C</li>\n",
       "\t<li>C</li>\n",
       "\t<li>C</li>\n",
       "\t<li>A</li>\n",
       "\t<li>C</li>\n",
       "\t<li>C</li>\n",
       "\t<li>B</li>\n",
       "</ol>\n",
       "\n",
       "<details>\n",
       "\t<summary style=display:list-item;cursor:pointer>\n",
       "\t\t<strong>Levels</strong>:\n",
       "\t</summary>\n",
       "\t<ol class=list-inline>\n",
       "\t\t<li>'A'</li>\n",
       "\t\t<li>'B'</li>\n",
       "\t\t<li>'C'</li>\n",
       "\t</ol>\n",
       "</details>"
      ],
      "text/latex": [
       "\\begin{enumerate*}\n",
       "\\item C\n",
       "\\item A\n",
       "\\item C\n",
       "\\item C\n",
       "\\item C\n",
       "\\item C\n",
       "\\item A\n",
       "\\item C\n",
       "\\item C\n",
       "\\item B\n",
       "\\end{enumerate*}\n",
       "\n",
       "\\emph{Levels}: \\begin{enumerate*}\n",
       "\\item 'A'\n",
       "\\item 'B'\n",
       "\\item 'C'\n",
       "\\end{enumerate*}\n"
      ],
      "text/markdown": [
       "1. C\n",
       "2. A\n",
       "3. C\n",
       "4. C\n",
       "5. C\n",
       "6. C\n",
       "7. A\n",
       "8. C\n",
       "9. C\n",
       "10. B\n",
       "\n",
       "\n",
       "\n",
       "**Levels**: 1. 'A'\n",
       "2. 'B'\n",
       "3. 'C'\n",
       "\n",
       "\n"
      ],
      "text/plain": [
       " [1] C A C C C C A C C B\n",
       "Levels: A B C"
      ]
     },
     "metadata": {},
     "output_type": "display_data"
    }
   ],
   "source": [
    "test_pred <- predict(svm_linear, newdata = unknown)\n",
    "test_pred"
   ]
  },
  {
   "cell_type": "code",
   "execution_count": 19,
   "metadata": {},
   "outputs": [],
   "source": [
    "unknown$type = test_pred"
   ]
  },
  {
   "cell_type": "code",
   "execution_count": 20,
   "metadata": {},
   "outputs": [
    {
     "data": {
      "text/html": [
       "<table>\n",
       "<caption>A data.frame: 10 × 8</caption>\n",
       "<thead>\n",
       "\t<tr><th scope=col>area</th><th scope=col>perimeter</th><th scope=col>compactness</th><th scope=col>length</th><th scope=col>width</th><th scope=col>asymmetry</th><th scope=col>groove</th><th scope=col>type</th></tr>\n",
       "\t<tr><th scope=col>&lt;dbl&gt;</th><th scope=col>&lt;dbl&gt;</th><th scope=col>&lt;dbl&gt;</th><th scope=col>&lt;dbl&gt;</th><th scope=col>&lt;dbl&gt;</th><th scope=col>&lt;dbl&gt;</th><th scope=col>&lt;dbl&gt;</th><th scope=col>&lt;fct&gt;</th></tr>\n",
       "</thead>\n",
       "<tbody>\n",
       "\t<tr><td>11.56</td><td>13.31</td><td>0.8198</td><td>5.363</td><td>2.683</td><td>4.062</td><td>5.182</td><td>C</td></tr>\n",
       "\t<tr><td>14.79</td><td>14.52</td><td>0.8819</td><td>5.545</td><td>3.291</td><td>2.704</td><td>5.111</td><td>A</td></tr>\n",
       "\t<tr><td>10.82</td><td>12.83</td><td>0.8256</td><td>5.180</td><td>2.630</td><td>4.853</td><td>5.089</td><td>C</td></tr>\n",
       "\t<tr><td>13.32</td><td>13.94</td><td>0.8613</td><td>5.541</td><td>3.073</td><td>7.035</td><td>5.440</td><td>C</td></tr>\n",
       "\t<tr><td>11.49</td><td>13.22</td><td>0.8263</td><td>5.304</td><td>2.695</td><td>5.388</td><td>5.310</td><td>C</td></tr>\n",
       "\t<tr><td>10.83</td><td>12.96</td><td>0.8099</td><td>5.278</td><td>2.641</td><td>5.182</td><td>5.185</td><td>C</td></tr>\n",
       "\t<tr><td>15.11</td><td>14.54</td><td>0.8986</td><td>5.579</td><td>3.462</td><td>3.128</td><td>5.180</td><td>A</td></tr>\n",
       "\t<tr><td>11.19</td><td>13.05</td><td>0.8253</td><td>5.250</td><td>2.675</td><td>5.813</td><td>5.219</td><td>C</td></tr>\n",
       "\t<tr><td>12.02</td><td>13.33</td><td>0.8503</td><td>5.350</td><td>2.810</td><td>4.271</td><td>5.308</td><td>C</td></tr>\n",
       "\t<tr><td>17.99</td><td>15.86</td><td>0.8992</td><td>5.890</td><td>3.694</td><td>2.068</td><td>5.837</td><td>B</td></tr>\n",
       "</tbody>\n",
       "</table>\n"
      ],
      "text/latex": [
       "A data.frame: 10 × 8\n",
       "\\begin{tabular}{r|llllllll}\n",
       " area & perimeter & compactness & length & width & asymmetry & groove & type\\\\\n",
       " <dbl> & <dbl> & <dbl> & <dbl> & <dbl> & <dbl> & <dbl> & <fct>\\\\\n",
       "\\hline\n",
       "\t 11.56 & 13.31 & 0.8198 & 5.363 & 2.683 & 4.062 & 5.182 & C\\\\\n",
       "\t 14.79 & 14.52 & 0.8819 & 5.545 & 3.291 & 2.704 & 5.111 & A\\\\\n",
       "\t 10.82 & 12.83 & 0.8256 & 5.180 & 2.630 & 4.853 & 5.089 & C\\\\\n",
       "\t 13.32 & 13.94 & 0.8613 & 5.541 & 3.073 & 7.035 & 5.440 & C\\\\\n",
       "\t 11.49 & 13.22 & 0.8263 & 5.304 & 2.695 & 5.388 & 5.310 & C\\\\\n",
       "\t 10.83 & 12.96 & 0.8099 & 5.278 & 2.641 & 5.182 & 5.185 & C\\\\\n",
       "\t 15.11 & 14.54 & 0.8986 & 5.579 & 3.462 & 3.128 & 5.180 & A\\\\\n",
       "\t 11.19 & 13.05 & 0.8253 & 5.250 & 2.675 & 5.813 & 5.219 & C\\\\\n",
       "\t 12.02 & 13.33 & 0.8503 & 5.350 & 2.810 & 4.271 & 5.308 & C\\\\\n",
       "\t 17.99 & 15.86 & 0.8992 & 5.890 & 3.694 & 2.068 & 5.837 & B\\\\\n",
       "\\end{tabular}\n"
      ],
      "text/markdown": [
       "\n",
       "A data.frame: 10 × 8\n",
       "\n",
       "| area &lt;dbl&gt; | perimeter &lt;dbl&gt; | compactness &lt;dbl&gt; | length &lt;dbl&gt; | width &lt;dbl&gt; | asymmetry &lt;dbl&gt; | groove &lt;dbl&gt; | type &lt;fct&gt; |\n",
       "|---|---|---|---|---|---|---|---|\n",
       "| 11.56 | 13.31 | 0.8198 | 5.363 | 2.683 | 4.062 | 5.182 | C |\n",
       "| 14.79 | 14.52 | 0.8819 | 5.545 | 3.291 | 2.704 | 5.111 | A |\n",
       "| 10.82 | 12.83 | 0.8256 | 5.180 | 2.630 | 4.853 | 5.089 | C |\n",
       "| 13.32 | 13.94 | 0.8613 | 5.541 | 3.073 | 7.035 | 5.440 | C |\n",
       "| 11.49 | 13.22 | 0.8263 | 5.304 | 2.695 | 5.388 | 5.310 | C |\n",
       "| 10.83 | 12.96 | 0.8099 | 5.278 | 2.641 | 5.182 | 5.185 | C |\n",
       "| 15.11 | 14.54 | 0.8986 | 5.579 | 3.462 | 3.128 | 5.180 | A |\n",
       "| 11.19 | 13.05 | 0.8253 | 5.250 | 2.675 | 5.813 | 5.219 | C |\n",
       "| 12.02 | 13.33 | 0.8503 | 5.350 | 2.810 | 4.271 | 5.308 | C |\n",
       "| 17.99 | 15.86 | 0.8992 | 5.890 | 3.694 | 2.068 | 5.837 | B |\n",
       "\n"
      ],
      "text/plain": [
       "   area  perimeter compactness length width asymmetry groove type\n",
       "1  11.56 13.31     0.8198      5.363  2.683 4.062     5.182  C   \n",
       "2  14.79 14.52     0.8819      5.545  3.291 2.704     5.111  A   \n",
       "3  10.82 12.83     0.8256      5.180  2.630 4.853     5.089  C   \n",
       "4  13.32 13.94     0.8613      5.541  3.073 7.035     5.440  C   \n",
       "5  11.49 13.22     0.8263      5.304  2.695 5.388     5.310  C   \n",
       "6  10.83 12.96     0.8099      5.278  2.641 5.182     5.185  C   \n",
       "7  15.11 14.54     0.8986      5.579  3.462 3.128     5.180  A   \n",
       "8  11.19 13.05     0.8253      5.250  2.675 5.813     5.219  C   \n",
       "9  12.02 13.33     0.8503      5.350  2.810 4.271     5.308  C   \n",
       "10 17.99 15.86     0.8992      5.890  3.694 2.068     5.837  B   "
      ]
     },
     "metadata": {},
     "output_type": "display_data"
    }
   ],
   "source": [
    "unknown"
   ]
  },
  {
   "cell_type": "markdown",
   "metadata": {},
   "source": [
    "### The accuracy of the model is 89.47%"
   ]
  },
  {
   "cell_type": "markdown",
   "metadata": {},
   "source": [
    "## Even though Approach - 2 has slightly higher accuracy, I would say Approach - 1 is better as we removed outliers and scaled the data values in each column"
   ]
  }
 ],
 "metadata": {
  "kernelspec": {
   "display_name": "R 3.6.1",
   "language": "R",
   "name": "r-3.6.1"
  },
  "language_info": {
   "codemirror_mode": "r",
   "file_extension": ".r",
   "mimetype": "text/x-r-source",
   "name": "R",
   "pygments_lexer": "r",
   "version": "3.6.1"
  }
 },
 "nbformat": 4,
 "nbformat_minor": 2
}
