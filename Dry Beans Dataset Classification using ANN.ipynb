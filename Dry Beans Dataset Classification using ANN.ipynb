{
 "cells": [
  {
   "cell_type": "markdown",
   "metadata": {},
   "source": [
    "<h1><center>Arunaggiri Pandian Karunanidhi</center></h1>"
   ]
  },
  {
   "cell_type": "markdown",
   "metadata": {},
   "source": [
    "### I. EXTRA CREDIT (5 points): Use PyTorch (by switching to a different kernel) to build a simple fully-connected artificial neural network for the beans classification based on the chosen features provided in the data. Generate a confusion matrix for the test data set to demonstrate the accuracy of the model. Based on your model, classify the beans provided in the unlabeled beans-unknown.csv data set. Indicate which classification has been assigned to each of the unlabeled beans. How do the results with the artificial neural network compare to the support vector machine model?"
   ]
  },
  {
   "cell_type": "code",
   "execution_count": 1,
   "metadata": {},
   "outputs": [],
   "source": [
    "import pandas as pd\n",
    "from sklearn import preprocessing\n",
    "import torch\n",
    "import torch.nn as nn\n",
    "import seaborn as sns"
   ]
  },
  {
   "cell_type": "code",
   "execution_count": 2,
   "metadata": {},
   "outputs": [
    {
     "data": {
      "text/html": [
       "<div>\n",
       "<style scoped>\n",
       "    .dataframe tbody tr th:only-of-type {\n",
       "        vertical-align: middle;\n",
       "    }\n",
       "\n",
       "    .dataframe tbody tr th {\n",
       "        vertical-align: top;\n",
       "    }\n",
       "\n",
       "    .dataframe thead th {\n",
       "        text-align: right;\n",
       "    }\n",
       "</style>\n",
       "<table border=\"1\" class=\"dataframe\">\n",
       "  <thead>\n",
       "    <tr style=\"text-align: right;\">\n",
       "      <th></th>\n",
       "      <th>Area</th>\n",
       "      <th>Perimeter</th>\n",
       "      <th>MajorAxisLength</th>\n",
       "      <th>MinorAxisLength</th>\n",
       "      <th>AspectRatio</th>\n",
       "      <th>Eccentricity</th>\n",
       "      <th>ConvexArea</th>\n",
       "      <th>EquivDiameter</th>\n",
       "      <th>Extent</th>\n",
       "      <th>Solidity</th>\n",
       "      <th>roundness</th>\n",
       "      <th>Compactness</th>\n",
       "      <th>ShapeFactor1</th>\n",
       "      <th>ShapeFactor2</th>\n",
       "      <th>ShapeFactor3</th>\n",
       "      <th>ShapeFactor4</th>\n",
       "      <th>Class</th>\n",
       "    </tr>\n",
       "  </thead>\n",
       "  <tbody>\n",
       "    <tr>\n",
       "      <th>0</th>\n",
       "      <td>28395</td>\n",
       "      <td>610.291</td>\n",
       "      <td>208.178117</td>\n",
       "      <td>173.888747</td>\n",
       "      <td>1.197191</td>\n",
       "      <td>0.549812</td>\n",
       "      <td>28715</td>\n",
       "      <td>190.141097</td>\n",
       "      <td>0.763923</td>\n",
       "      <td>0.988856</td>\n",
       "      <td>0.958027</td>\n",
       "      <td>0.913358</td>\n",
       "      <td>0.007332</td>\n",
       "      <td>0.003147</td>\n",
       "      <td>0.834222</td>\n",
       "      <td>0.998724</td>\n",
       "      <td>SEKER</td>\n",
       "    </tr>\n",
       "    <tr>\n",
       "      <th>1</th>\n",
       "      <td>28734</td>\n",
       "      <td>638.018</td>\n",
       "      <td>200.524796</td>\n",
       "      <td>182.734419</td>\n",
       "      <td>1.097356</td>\n",
       "      <td>0.411785</td>\n",
       "      <td>29172</td>\n",
       "      <td>191.272751</td>\n",
       "      <td>0.783968</td>\n",
       "      <td>0.984986</td>\n",
       "      <td>0.887034</td>\n",
       "      <td>0.953861</td>\n",
       "      <td>0.006979</td>\n",
       "      <td>0.003564</td>\n",
       "      <td>0.909851</td>\n",
       "      <td>0.998430</td>\n",
       "      <td>SEKER</td>\n",
       "    </tr>\n",
       "    <tr>\n",
       "      <th>2</th>\n",
       "      <td>29380</td>\n",
       "      <td>624.110</td>\n",
       "      <td>212.826130</td>\n",
       "      <td>175.931143</td>\n",
       "      <td>1.209713</td>\n",
       "      <td>0.562727</td>\n",
       "      <td>29690</td>\n",
       "      <td>193.410904</td>\n",
       "      <td>0.778113</td>\n",
       "      <td>0.989559</td>\n",
       "      <td>0.947849</td>\n",
       "      <td>0.908774</td>\n",
       "      <td>0.007244</td>\n",
       "      <td>0.003048</td>\n",
       "      <td>0.825871</td>\n",
       "      <td>0.999066</td>\n",
       "      <td>SEKER</td>\n",
       "    </tr>\n",
       "  </tbody>\n",
       "</table>\n",
       "</div>"
      ],
      "text/plain": [
       "    Area  Perimeter  MajorAxisLength  MinorAxisLength  AspectRatio  \\\n",
       "0  28395    610.291       208.178117       173.888747     1.197191   \n",
       "1  28734    638.018       200.524796       182.734419     1.097356   \n",
       "2  29380    624.110       212.826130       175.931143     1.209713   \n",
       "\n",
       "   Eccentricity  ConvexArea  EquivDiameter    Extent  Solidity  roundness  \\\n",
       "0      0.549812       28715     190.141097  0.763923  0.988856   0.958027   \n",
       "1      0.411785       29172     191.272751  0.783968  0.984986   0.887034   \n",
       "2      0.562727       29690     193.410904  0.778113  0.989559   0.947849   \n",
       "\n",
       "   Compactness  ShapeFactor1  ShapeFactor2  ShapeFactor3  ShapeFactor4  Class  \n",
       "0     0.913358      0.007332      0.003147      0.834222      0.998724  SEKER  \n",
       "1     0.953861      0.006979      0.003564      0.909851      0.998430  SEKER  \n",
       "2     0.908774      0.007244      0.003048      0.825871      0.999066  SEKER  "
      ]
     },
     "execution_count": 2,
     "metadata": {},
     "output_type": "execute_result"
    }
   ],
   "source": [
    "df = pd.read_csv('beans.csv')\n",
    "df.head(3)"
   ]
  },
  {
   "cell_type": "code",
   "execution_count": 3,
   "metadata": {},
   "outputs": [
    {
     "data": {
      "text/plain": [
       "<AxesSubplot:xlabel='Class', ylabel='count'>"
      ]
     },
     "execution_count": 3,
     "metadata": {},
     "output_type": "execute_result"
    },
    {
     "data": {
      "image/png": "[encoded data removed]",
      "text/plain": [
       "<Figure size 432x288 with 1 Axes>"
      ]
     },
     "metadata": {
      "needs_background": "light"
     },
     "output_type": "display_data"
    }
   ],
   "source": [
    "# Visualizing the distribution of the target class\n",
    "\n",
    "sns.countplot(x = 'Class', data=df)"
   ]
  },
  {
   "cell_type": "code",
   "execution_count": 4,
   "metadata": {},
   "outputs": [
    {
     "data": {
      "text/plain": [
       "array(['SEKER', 'BARBUNYA', 'BOMBAY', 'CALI', 'HOROZ', 'SIRA', 'DERMASON'],\n",
       "      dtype=object)"
      ]
     },
     "execution_count": 4,
     "metadata": {},
     "output_type": "execute_result"
    }
   ],
   "source": [
    "df['Class'].unique()"
   ]
  },
  {
   "cell_type": "code",
   "execution_count": 5,
   "metadata": {},
   "outputs": [
    {
     "data": {
      "text/html": [
       "<style>#sk-container-id-1 {color: black;background-color: white;}#sk-container-id-1 pre{padding: 0;}#sk-container-id-1 div.sk-toggleable {background-color: white;}#sk-container-id-1 label.sk-toggleable__label {cursor: pointer;display: block;width: 100%;margin-bottom: 0;padding: 0.3em;box-sizing: border-box;text-align: center;}#sk-container-id-1 label.sk-toggleable__label-arrow:before {content: \"▸\";float: left;margin-right: 0.25em;color: #696969;}#sk-container-id-1 label.sk-toggleable__label-arrow:hover:before {color: black;}#sk-container-id-1 div.sk-estimator:hover label.sk-toggleable__label-arrow:before {color: black;}#sk-container-id-1 div.sk-toggleable__content {max-height: 0;max-width: 0;overflow: hidden;text-align: left;background-color: #f0f8ff;}#sk-container-id-1 div.sk-toggleable__content pre {margin: 0.2em;color: black;border-radius: 0.25em;background-color: #f0f8ff;}#sk-container-id-1 input.sk-toggleable__control:checked~div.sk-toggleable__content {max-height: 200px;max-width: 100%;overflow: auto;}#sk-container-id-1 input.sk-toggleable__control:checked~label.sk-toggleable__label-arrow:before {content: \"▾\";}#sk-container-id-1 div.sk-estimator input.sk-toggleable__control:checked~label.sk-toggleable__label {background-color: #d4ebff;}#sk-container-id-1 div.sk-label input.sk-toggleable__control:checked~label.sk-toggleable__label {background-color: #d4ebff;}#sk-container-id-1 input.sk-hidden--visually {border: 0;clip: rect(1px 1px 1px 1px);clip: rect(1px, 1px, 1px, 1px);height: 1px;margin: -1px;overflow: hidden;padding: 0;position: absolute;width: 1px;}#sk-container-id-1 div.sk-estimator {font-family: monospace;background-color: #f0f8ff;border: 1px dotted black;border-radius: 0.25em;box-sizing: border-box;margin-bottom: 0.5em;}#sk-container-id-1 div.sk-estimator:hover {background-color: #d4ebff;}#sk-container-id-1 div.sk-parallel-item::after {content: \"\";width: 100%;border-bottom: 1px solid gray;flex-grow: 1;}#sk-container-id-1 div.sk-label:hover label.sk-toggleable__label {background-color: #d4ebff;}#sk-container-id-1 div.sk-serial::before {content: \"\";position: absolute;border-left: 1px solid gray;box-sizing: border-box;top: 0;bottom: 0;left: 50%;z-index: 0;}#sk-container-id-1 div.sk-serial {display: flex;flex-direction: column;align-items: center;background-color: white;padding-right: 0.2em;padding-left: 0.2em;position: relative;}#sk-container-id-1 div.sk-item {position: relative;z-index: 1;}#sk-container-id-1 div.sk-parallel {display: flex;align-items: stretch;justify-content: center;background-color: white;position: relative;}#sk-container-id-1 div.sk-item::before, #sk-container-id-1 div.sk-parallel-item::before {content: \"\";position: absolute;border-left: 1px solid gray;box-sizing: border-box;top: 0;bottom: 0;left: 50%;z-index: -1;}#sk-container-id-1 div.sk-parallel-item {display: flex;flex-direction: column;z-index: 1;position: relative;background-color: white;}#sk-container-id-1 div.sk-parallel-item:first-child::after {align-self: flex-end;width: 50%;}#sk-container-id-1 div.sk-parallel-item:last-child::after {align-self: flex-start;width: 50%;}#sk-container-id-1 div.sk-parallel-item:only-child::after {width: 0;}#sk-container-id-1 div.sk-dashed-wrapped {border: 1px dashed gray;margin: 0 0.4em 0.5em 0.4em;box-sizing: border-box;padding-bottom: 0.4em;background-color: white;}#sk-container-id-1 div.sk-label label {font-family: monospace;font-weight: bold;display: inline-block;line-height: 1.2em;}#sk-container-id-1 div.sk-label-container {text-align: center;}#sk-container-id-1 div.sk-container {/* jupyter's `normalize.less` sets `[hidden] { display: none; }` but bootstrap.min.css set `[hidden] { display: none !important; }` so we also need the `!important` here to be able to override the default hidden behavior on the sphinx rendered scikit-learn.org. See: https://github.com/scikit-learn/scikit-learn/issues/21755 */display: inline-block !important;position: relative;}#sk-container-id-1 div.sk-text-repr-fallback {display: none;}</style><div id=\"sk-container-id-1\" class=\"sk-top-container\"><div class=\"sk-text-repr-fallback\"><pre>LabelEncoder()</pre><b>In a Jupyter environment, please rerun this cell to show the HTML representation or trust the notebook. <br />On GitHub, the HTML representation is unable to render, please try loading this page with nbviewer.org.</b></div><div class=\"sk-container\" hidden><div class=\"sk-item\"><div class=\"sk-estimator sk-toggleable\"><input class=\"sk-toggleable__control sk-hidden--visually\" id=\"sk-estimator-id-1\" type=\"checkbox\" checked><label for=\"sk-estimator-id-1\" class=\"sk-toggleable__label sk-toggleable__label-arrow\">LabelEncoder</label><div class=\"sk-toggleable__content\"><pre>LabelEncoder()</pre></div></div></div></div></div>"
      ],
      "text/plain": [
       "LabelEncoder()"
      ]
     },
     "execution_count": 5,
     "metadata": {},
     "output_type": "execute_result"
    }
   ],
   "source": [
    "le = preprocessing.LabelEncoder()\n",
    "le.fit(df['Class'])"
   ]
  },
  {
   "cell_type": "code",
   "execution_count": 6,
   "metadata": {},
   "outputs": [],
   "source": [
    "df['Class'] = le.transform(df['Class'])"
   ]
  },
  {
   "cell_type": "code",
   "execution_count": 7,
   "metadata": {},
   "outputs": [
    {
     "data": {
      "text/plain": [
       "array([5, 0, 1, 2, 4, 6, 3])"
      ]
     },
     "execution_count": 7,
     "metadata": {},
     "output_type": "execute_result"
    }
   ],
   "source": [
    "df['Class'].unique()"
   ]
  },
  {
   "cell_type": "code",
   "execution_count": 8,
   "metadata": {},
   "outputs": [
    {
     "data": {
      "text/html": [
       "<div>\n",
       "<style scoped>\n",
       "    .dataframe tbody tr th:only-of-type {\n",
       "        vertical-align: middle;\n",
       "    }\n",
       "\n",
       "    .dataframe tbody tr th {\n",
       "        vertical-align: top;\n",
       "    }\n",
       "\n",
       "    .dataframe thead th {\n",
       "        text-align: right;\n",
       "    }\n",
       "</style>\n",
       "<table border=\"1\" class=\"dataframe\">\n",
       "  <thead>\n",
       "    <tr style=\"text-align: right;\">\n",
       "      <th></th>\n",
       "      <th>Area</th>\n",
       "      <th>Perimeter</th>\n",
       "      <th>MajorAxisLength</th>\n",
       "      <th>MinorAxisLength</th>\n",
       "      <th>AspectRatio</th>\n",
       "      <th>Eccentricity</th>\n",
       "      <th>ConvexArea</th>\n",
       "      <th>EquivDiameter</th>\n",
       "      <th>Extent</th>\n",
       "      <th>Solidity</th>\n",
       "      <th>roundness</th>\n",
       "      <th>Compactness</th>\n",
       "      <th>ShapeFactor1</th>\n",
       "      <th>ShapeFactor2</th>\n",
       "      <th>ShapeFactor3</th>\n",
       "      <th>ShapeFactor4</th>\n",
       "      <th>Class</th>\n",
       "    </tr>\n",
       "  </thead>\n",
       "  <tbody>\n",
       "    <tr>\n",
       "      <th>0</th>\n",
       "      <td>28395</td>\n",
       "      <td>610.291</td>\n",
       "      <td>208.178117</td>\n",
       "      <td>173.888747</td>\n",
       "      <td>1.197191</td>\n",
       "      <td>0.549812</td>\n",
       "      <td>28715</td>\n",
       "      <td>190.141097</td>\n",
       "      <td>0.763923</td>\n",
       "      <td>0.988856</td>\n",
       "      <td>0.958027</td>\n",
       "      <td>0.913358</td>\n",
       "      <td>0.007332</td>\n",
       "      <td>0.003147</td>\n",
       "      <td>0.834222</td>\n",
       "      <td>0.998724</td>\n",
       "      <td>5</td>\n",
       "    </tr>\n",
       "    <tr>\n",
       "      <th>1</th>\n",
       "      <td>28734</td>\n",
       "      <td>638.018</td>\n",
       "      <td>200.524796</td>\n",
       "      <td>182.734419</td>\n",
       "      <td>1.097356</td>\n",
       "      <td>0.411785</td>\n",
       "      <td>29172</td>\n",
       "      <td>191.272751</td>\n",
       "      <td>0.783968</td>\n",
       "      <td>0.984986</td>\n",
       "      <td>0.887034</td>\n",
       "      <td>0.953861</td>\n",
       "      <td>0.006979</td>\n",
       "      <td>0.003564</td>\n",
       "      <td>0.909851</td>\n",
       "      <td>0.998430</td>\n",
       "      <td>5</td>\n",
       "    </tr>\n",
       "    <tr>\n",
       "      <th>2</th>\n",
       "      <td>29380</td>\n",
       "      <td>624.110</td>\n",
       "      <td>212.826130</td>\n",
       "      <td>175.931143</td>\n",
       "      <td>1.209713</td>\n",
       "      <td>0.562727</td>\n",
       "      <td>29690</td>\n",
       "      <td>193.410904</td>\n",
       "      <td>0.778113</td>\n",
       "      <td>0.989559</td>\n",
       "      <td>0.947849</td>\n",
       "      <td>0.908774</td>\n",
       "      <td>0.007244</td>\n",
       "      <td>0.003048</td>\n",
       "      <td>0.825871</td>\n",
       "      <td>0.999066</td>\n",
       "      <td>5</td>\n",
       "    </tr>\n",
       "  </tbody>\n",
       "</table>\n",
       "</div>"
      ],
      "text/plain": [
       "    Area  Perimeter  MajorAxisLength  MinorAxisLength  AspectRatio  \\\n",
       "0  28395    610.291       208.178117       173.888747     1.197191   \n",
       "1  28734    638.018       200.524796       182.734419     1.097356   \n",
       "2  29380    624.110       212.826130       175.931143     1.209713   \n",
       "\n",
       "   Eccentricity  ConvexArea  EquivDiameter    Extent  Solidity  roundness  \\\n",
       "0      0.549812       28715     190.141097  0.763923  0.988856   0.958027   \n",
       "1      0.411785       29172     191.272751  0.783968  0.984986   0.887034   \n",
       "2      0.562727       29690     193.410904  0.778113  0.989559   0.947849   \n",
       "\n",
       "   Compactness  ShapeFactor1  ShapeFactor2  ShapeFactor3  ShapeFactor4  Class  \n",
       "0     0.913358      0.007332      0.003147      0.834222      0.998724      5  \n",
       "1     0.953861      0.006979      0.003564      0.909851      0.998430      5  \n",
       "2     0.908774      0.007244      0.003048      0.825871      0.999066      5  "
      ]
     },
     "execution_count": 8,
     "metadata": {},
     "output_type": "execute_result"
    }
   ],
   "source": [
    "df.head(3)"
   ]
  },
  {
   "cell_type": "code",
   "execution_count": 9,
   "metadata": {},
   "outputs": [
    {
     "name": "stdout",
     "output_type": "stream",
     "text": [
      "Area               0\n",
      "Perimeter          0\n",
      "MajorAxisLength    0\n",
      "MinorAxisLength    0\n",
      "AspectRatio        0\n",
      "Eccentricity       0\n",
      "ConvexArea         0\n",
      "EquivDiameter      0\n",
      "Extent             0\n",
      "Solidity           0\n",
      "roundness          0\n",
      "Compactness        0\n",
      "ShapeFactor1       0\n",
      "ShapeFactor2       0\n",
      "ShapeFactor3       1\n",
      "ShapeFactor4       0\n",
      "Class              0\n",
      "dtype: int64\n"
     ]
    }
   ],
   "source": [
    "print(df.isnull().sum())"
   ]
  },
  {
   "cell_type": "code",
   "execution_count": 10,
   "metadata": {},
   "outputs": [
    {
     "data": {
      "text/plain": [
       "<AxesSubplot:xlabel='Class', ylabel='count'>"
      ]
     },
     "execution_count": 10,
     "metadata": {},
     "output_type": "execute_result"
    },
    {
     "data": {
      "image/png": "[encoded data removed]",
      "text/plain": [
       "<Figure size 432x288 with 1 Axes>"
      ]
     },
     "metadata": {
      "needs_background": "light"
     },
     "output_type": "display_data"
    }
   ],
   "source": [
    "sns.countplot(x = 'Class', data=df)"
   ]
  },
  {
   "cell_type": "code",
   "execution_count": 11,
   "metadata": {},
   "outputs": [
    {
     "name": "stdout",
     "output_type": "stream",
     "text": [
      "0.6424101875\n",
      "0\n"
     ]
    }
   ],
   "source": [
    "# replacing null value with median value\n",
    "\n",
    "# mode value is\n",
    "print(df['ShapeFactor3'].median())\n",
    "\n",
    "# add .mode()[0] as mode returns a series\n",
    "df['ShapeFactor3'] = df[\"ShapeFactor3\"].fillna(df['ShapeFactor3'].median())\n",
    "\n",
    "print(len(df[df['ShapeFactor3'].isna()]['ShapeFactor3']))"
   ]
  },
  {
   "cell_type": "code",
   "execution_count": 12,
   "metadata": {},
   "outputs": [
    {
     "data": {
      "text/html": [
       "<div>\n",
       "<style scoped>\n",
       "    .dataframe tbody tr th:only-of-type {\n",
       "        vertical-align: middle;\n",
       "    }\n",
       "\n",
       "    .dataframe tbody tr th {\n",
       "        vertical-align: top;\n",
       "    }\n",
       "\n",
       "    .dataframe thead th {\n",
       "        text-align: right;\n",
       "    }\n",
       "</style>\n",
       "<table border=\"1\" class=\"dataframe\">\n",
       "  <thead>\n",
       "    <tr style=\"text-align: right;\">\n",
       "      <th></th>\n",
       "      <th>Area</th>\n",
       "      <th>Perimeter</th>\n",
       "      <th>MajorAxisLength</th>\n",
       "      <th>MinorAxisLength</th>\n",
       "      <th>AspectRatio</th>\n",
       "      <th>Eccentricity</th>\n",
       "      <th>ConvexArea</th>\n",
       "      <th>EquivDiameter</th>\n",
       "      <th>Extent</th>\n",
       "      <th>Solidity</th>\n",
       "      <th>roundness</th>\n",
       "      <th>Compactness</th>\n",
       "      <th>ShapeFactor1</th>\n",
       "      <th>ShapeFactor2</th>\n",
       "      <th>ShapeFactor3</th>\n",
       "      <th>ShapeFactor4</th>\n",
       "      <th>Class</th>\n",
       "    </tr>\n",
       "  </thead>\n",
       "  <tbody>\n",
       "    <tr>\n",
       "      <th>0</th>\n",
       "      <td>-0.838853</td>\n",
       "      <td>-1.139688</td>\n",
       "      <td>-1.301921</td>\n",
       "      <td>-0.632217</td>\n",
       "      <td>-1.564982</td>\n",
       "      <td>-2.182023</td>\n",
       "      <td>-0.839544</td>\n",
       "      <td>-1.060495</td>\n",
       "      <td>0.288035</td>\n",
       "      <td>0.366749</td>\n",
       "      <td>1.420254</td>\n",
       "      <td>1.838075</td>\n",
       "      <td>0.681965</td>\n",
       "      <td>2.397588</td>\n",
       "      <td>1.924193</td>\n",
       "      <td>0.838758</td>\n",
       "      <td>5</td>\n",
       "    </tr>\n",
       "    <tr>\n",
       "      <th>1</th>\n",
       "      <td>-0.827322</td>\n",
       "      <td>-1.010590</td>\n",
       "      <td>-1.391089</td>\n",
       "      <td>-0.435922</td>\n",
       "      <td>-1.971943</td>\n",
       "      <td>-3.684171</td>\n",
       "      <td>-0.824236</td>\n",
       "      <td>-1.041419</td>\n",
       "      <td>0.697652</td>\n",
       "      <td>-0.465418</td>\n",
       "      <td>0.225234</td>\n",
       "      <td>2.496844</td>\n",
       "      <td>0.369690</td>\n",
       "      <td>3.096544</td>\n",
       "      <td>2.690565</td>\n",
       "      <td>0.771240</td>\n",
       "      <td>5</td>\n",
       "    </tr>\n",
       "    <tr>\n",
       "      <th>2</th>\n",
       "      <td>-0.805349</td>\n",
       "      <td>-1.075346</td>\n",
       "      <td>-1.247768</td>\n",
       "      <td>-0.586894</td>\n",
       "      <td>-1.513942</td>\n",
       "      <td>-2.041468</td>\n",
       "      <td>-0.806883</td>\n",
       "      <td>-1.005376</td>\n",
       "      <td>0.578012</td>\n",
       "      <td>0.517851</td>\n",
       "      <td>1.248936</td>\n",
       "      <td>1.763526</td>\n",
       "      <td>0.604443</td>\n",
       "      <td>2.230451</td>\n",
       "      <td>1.839561</td>\n",
       "      <td>0.917476</td>\n",
       "      <td>5</td>\n",
       "    </tr>\n",
       "  </tbody>\n",
       "</table>\n",
       "</div>"
      ],
      "text/plain": [
       "       Area  Perimeter  MajorAxisLength  MinorAxisLength  AspectRatio  \\\n",
       "0 -0.838853  -1.139688        -1.301921        -0.632217    -1.564982   \n",
       "1 -0.827322  -1.010590        -1.391089        -0.435922    -1.971943   \n",
       "2 -0.805349  -1.075346        -1.247768        -0.586894    -1.513942   \n",
       "\n",
       "   Eccentricity  ConvexArea  EquivDiameter    Extent  Solidity  roundness  \\\n",
       "0     -2.182023   -0.839544      -1.060495  0.288035  0.366749   1.420254   \n",
       "1     -3.684171   -0.824236      -1.041419  0.697652 -0.465418   0.225234   \n",
       "2     -2.041468   -0.806883      -1.005376  0.578012  0.517851   1.248936   \n",
       "\n",
       "   Compactness  ShapeFactor1  ShapeFactor2  ShapeFactor3  ShapeFactor4  Class  \n",
       "0     1.838075      0.681965      2.397588      1.924193      0.838758      5  \n",
       "1     2.496844      0.369690      3.096544      2.690565      0.771240      5  \n",
       "2     1.763526      0.604443      2.230451      1.839561      0.917476      5  "
      ]
     },
     "execution_count": 12,
     "metadata": {},
     "output_type": "execute_result"
    }
   ],
   "source": [
    "# scaling features\n",
    "\n",
    "from sklearn.preprocessing import StandardScaler, RobustScaler, MinMaxScaler, PowerTransformer\n",
    "\n",
    "\n",
    "columns_need_to_be_scaled = df.drop(columns=['Class']).columns\n",
    "\n",
    "SS = StandardScaler().fit(df[columns_need_to_be_scaled])\n",
    "\n",
    "df[columns_need_to_be_scaled] = pd.DataFrame(SS.transform(df[columns_need_to_be_scaled]), \n",
    "                                                   columns=columns_need_to_be_scaled)\n",
    "\n",
    "df.head(3)"
   ]
  },
  {
   "cell_type": "code",
   "execution_count": 13,
   "metadata": {},
   "outputs": [],
   "source": [
    "X = df.iloc[:, 0:-1]"
   ]
  },
  {
   "cell_type": "code",
   "execution_count": 14,
   "metadata": {},
   "outputs": [],
   "source": [
    "y = df.iloc[:, -1]"
   ]
  },
  {
   "cell_type": "code",
   "execution_count": 15,
   "metadata": {},
   "outputs": [],
   "source": [
    "X = X.to_numpy()"
   ]
  },
  {
   "cell_type": "code",
   "execution_count": 16,
   "metadata": {},
   "outputs": [
    {
     "data": {
      "text/plain": [
       "array([[-0.8388525 , -1.13968829, -1.30192147, ...,  2.39758822,\n",
       "         1.92419328,  0.83875835],\n",
       "       [-0.82732195, -1.01058983, -1.39108908, ...,  3.09654363,\n",
       "         2.69056462,  0.77123968],\n",
       "       [-0.80534927, -1.07534626, -1.24776821, ...,  2.23045069,\n",
       "         1.83956129,  0.91747579],\n",
       "       ...,\n",
       "       [-0.37137187, -0.44579629, -0.44719479, ...,  0.28391186,\n",
       "         0.32981927,  0.38873236],\n",
       "       [-0.37109977, -0.4250396 , -0.42572569, ...,  0.22306101,\n",
       "         0.24219074,  0.03341647],\n",
       "       [-0.37069161, -0.38565868, -0.2887106 , ..., -0.1332084 ,\n",
       "        -0.28491007,  0.71357655]])"
      ]
     },
     "execution_count": 16,
     "metadata": {},
     "output_type": "execute_result"
    }
   ],
   "source": [
    "X"
   ]
  },
  {
   "cell_type": "code",
   "execution_count": 17,
   "metadata": {},
   "outputs": [],
   "source": [
    "y = y.to_numpy()"
   ]
  },
  {
   "cell_type": "code",
   "execution_count": 18,
   "metadata": {},
   "outputs": [
    {
     "data": {
      "text/plain": [
       "array([5, 5, 5, ..., 3, 3, 3])"
      ]
     },
     "execution_count": 18,
     "metadata": {},
     "output_type": "execute_result"
    }
   ],
   "source": [
    "y"
   ]
  },
  {
   "cell_type": "code",
   "execution_count": 19,
   "metadata": {},
   "outputs": [],
   "source": [
    "from sklearn.model_selection import train_test_split\n",
    "X_train, X_test, y_train, y_test = train_test_split(X, y, test_size = 0.2)"
   ]
  },
  {
   "cell_type": "code",
   "execution_count": 20,
   "metadata": {},
   "outputs": [],
   "source": [
    "# input layer nodes = 16 --> number of features\n",
    "# hidden layer nodes = 3 \n",
    "# outplut layer nodes = 3 --> number of categories\n",
    "iln = 16\n",
    "hln = 3\n",
    "oln = 7\n",
    "eta = 0.01\n",
    "num_epoch = 10000"
   ]
  },
  {
   "cell_type": "code",
   "execution_count": 21,
   "metadata": {},
   "outputs": [],
   "source": [
    "# fc = fully connected\n",
    "class Net(nn.Module):\n",
    "    def __init__(self):\n",
    "        super(Net, self).__init__()\n",
    "        self.fc1 = nn.Linear(iln, hln)\n",
    "        self.out = nn.Linear(hln, oln)\n",
    "    def forward(self, x):\n",
    "        x = self.fc1(x)\n",
    "        x = nn.functional.relu(x)\n",
    "        x = self.out(x)\n",
    "        out = nn.functional.softmax(x, dim = 1)\n",
    "        return out"
   ]
  },
  {
   "cell_type": "code",
   "execution_count": 22,
   "metadata": {},
   "outputs": [],
   "source": [
    "model = Net()"
   ]
  },
  {
   "cell_type": "code",
   "execution_count": 23,
   "metadata": {},
   "outputs": [],
   "source": [
    "criterion = nn.CrossEntropyLoss()\n",
    "optimizer = torch.optim.SGD(model.parameters(), lr = eta)"
   ]
  },
  {
   "cell_type": "code",
   "execution_count": 24,
   "metadata": {},
   "outputs": [],
   "source": [
    "X = torch.Tensor(X_train).float()\n",
    "y = torch.Tensor(y_train).long()"
   ]
  },
  {
   "cell_type": "code",
   "execution_count": 25,
   "metadata": {},
   "outputs": [
    {
     "name": "stdout",
     "output_type": "stream",
     "text": [
      "epoch: 0 loss: 1.9576890468597412\n",
      "epoch: 1000 loss: 1.9133504629135132\n",
      "epoch: 2000 loss: 1.8884079456329346\n",
      "epoch: 3000 loss: 1.8597699403762817\n",
      "epoch: 4000 loss: 1.7924624681472778\n",
      "epoch: 5000 loss: 1.7611249685287476\n",
      "epoch: 6000 loss: 1.730120062828064\n",
      "epoch: 7000 loss: 1.6823604106903076\n",
      "epoch: 8000 loss: 1.6413053274154663\n",
      "epoch: 9000 loss: 1.5863434076309204\n"
     ]
    }
   ],
   "source": [
    "for epoch in range(num_epoch): \n",
    "    optimizer.zero_grad()\n",
    "    out = model(X)\n",
    "    loss = criterion(out, y)\n",
    "    loss.backward()\n",
    "    optimizer.step()\n",
    "    if epoch % 1000 == 0: \n",
    "        print('epoch:', epoch, 'loss:', loss.item())"
   ]
  },
  {
   "cell_type": "code",
   "execution_count": 44,
   "metadata": {},
   "outputs": [],
   "source": [
    "X = torch.Tensor(X_test).float()\n",
    "y = torch.Tensor(y_test).long()"
   ]
  },
  {
   "cell_type": "code",
   "execution_count": 45,
   "metadata": {},
   "outputs": [],
   "source": [
    "out = model(X)"
   ]
  },
  {
   "cell_type": "code",
   "execution_count": 46,
   "metadata": {},
   "outputs": [],
   "source": [
    "(values, prediction) = torch.max(out.data, dim = 1)"
   ]
  },
  {
   "cell_type": "code",
   "execution_count": 47,
   "metadata": {},
   "outputs": [
    {
     "data": {
      "text/plain": [
       "tensor([3, 1, 2,  ..., 3, 3, 3])"
      ]
     },
     "execution_count": 47,
     "metadata": {},
     "output_type": "execute_result"
    }
   ],
   "source": [
    "prediction"
   ]
  },
  {
   "cell_type": "code",
   "execution_count": 48,
   "metadata": {},
   "outputs": [
    {
     "data": {
      "text/plain": [
       "2707"
      ]
     },
     "execution_count": 48,
     "metadata": {},
     "output_type": "execute_result"
    }
   ],
   "source": [
    "prediction = pd.Series(prediction)\n",
    "list(prediction)\n",
    "len(prediction)"
   ]
  },
  {
   "cell_type": "code",
   "execution_count": 49,
   "metadata": {},
   "outputs": [
    {
     "data": {
      "text/plain": [
       "2707"
      ]
     },
     "execution_count": 49,
     "metadata": {},
     "output_type": "execute_result"
    }
   ],
   "source": [
    "y = list(pd.Series(y))\n",
    "len(y)"
   ]
  },
  {
   "cell_type": "code",
   "execution_count": 50,
   "metadata": {},
   "outputs": [
    {
     "data": {
      "text/plain": [
       "7"
      ]
     },
     "execution_count": 50,
     "metadata": {},
     "output_type": "execute_result"
    }
   ],
   "source": [
    "y = set(y)\n",
    "len(y)"
   ]
  },
  {
   "cell_type": "code",
   "execution_count": 29,
   "metadata": {},
   "outputs": [
    {
     "name": "stdout",
     "output_type": "stream",
     "text": [
      "Accuracy is: tensor(73.0329, dtype=torch.float64)\n"
     ]
    }
   ],
   "source": [
    "print('Accuracy is:', (100 * torch.sum(y == prediction).double() / len(y)))"
   ]
  },
  {
   "cell_type": "code",
   "execution_count": 67,
   "metadata": {},
   "outputs": [
    {
     "data": {
      "text/html": [
       "<div>\n",
       "<style scoped>\n",
       "    .dataframe tbody tr th:only-of-type {\n",
       "        vertical-align: middle;\n",
       "    }\n",
       "\n",
       "    .dataframe tbody tr th {\n",
       "        vertical-align: top;\n",
       "    }\n",
       "\n",
       "    .dataframe thead th {\n",
       "        text-align: right;\n",
       "    }\n",
       "</style>\n",
       "<table border=\"1\" class=\"dataframe\">\n",
       "  <thead>\n",
       "    <tr style=\"text-align: right;\">\n",
       "      <th></th>\n",
       "      <th>Area</th>\n",
       "      <th>Perimeter</th>\n",
       "      <th>MajorAxisLength</th>\n",
       "      <th>MinorAxisLength</th>\n",
       "      <th>AspectRatio</th>\n",
       "      <th>Eccentricity</th>\n",
       "      <th>ConvexArea</th>\n",
       "      <th>EquivDiameter</th>\n",
       "      <th>Extent</th>\n",
       "      <th>Solidity</th>\n",
       "      <th>roundness</th>\n",
       "      <th>Compactness</th>\n",
       "      <th>ShapeFactor1</th>\n",
       "      <th>ShapeFactor2</th>\n",
       "      <th>ShapeFactor3</th>\n",
       "      <th>ShapeFactor4</th>\n",
       "    </tr>\n",
       "  </thead>\n",
       "  <tbody>\n",
       "    <tr>\n",
       "      <th>0</th>\n",
       "      <td>37500</td>\n",
       "      <td>728.191</td>\n",
       "      <td>275.840463</td>\n",
       "      <td>173.818266</td>\n",
       "      <td>1.586948</td>\n",
       "      <td>0.776481</td>\n",
       "      <td>37944</td>\n",
       "      <td>218.509686</td>\n",
       "      <td>0.703406</td>\n",
       "      <td>0.988299</td>\n",
       "      <td>0.888690</td>\n",
       "      <td>0.792160</td>\n",
       "      <td>0.007356</td>\n",
       "      <td>0.001787</td>\n",
       "      <td>0.627517</td>\n",
       "      <td>0.995836</td>\n",
       "    </tr>\n",
       "    <tr>\n",
       "      <th>1</th>\n",
       "      <td>37500</td>\n",
       "      <td>715.578</td>\n",
       "      <td>272.171813</td>\n",
       "      <td>175.668301</td>\n",
       "      <td>1.549351</td>\n",
       "      <td>0.763818</td>\n",
       "      <td>37797</td>\n",
       "      <td>218.509686</td>\n",
       "      <td>0.786229</td>\n",
       "      <td>0.992142</td>\n",
       "      <td>0.920295</td>\n",
       "      <td>0.802837</td>\n",
       "      <td>0.007258</td>\n",
       "      <td>0.001860</td>\n",
       "      <td>0.644548</td>\n",
       "      <td>0.998631</td>\n",
       "    </tr>\n",
       "    <tr>\n",
       "      <th>2</th>\n",
       "      <td>37511</td>\n",
       "      <td>718.350</td>\n",
       "      <td>267.039757</td>\n",
       "      <td>179.141937</td>\n",
       "      <td>1.490660</td>\n",
       "      <td>0.741599</td>\n",
       "      <td>37868</td>\n",
       "      <td>218.541732</td>\n",
       "      <td>0.717365</td>\n",
       "      <td>0.990573</td>\n",
       "      <td>0.913474</td>\n",
       "      <td>0.818387</td>\n",
       "      <td>0.007119</td>\n",
       "      <td>0.001970</td>\n",
       "      <td>0.669756</td>\n",
       "      <td>0.998379</td>\n",
       "    </tr>\n",
       "  </tbody>\n",
       "</table>\n",
       "</div>"
      ],
      "text/plain": [
       "    Area  Perimeter  MajorAxisLength  MinorAxisLength  AspectRatio  \\\n",
       "0  37500    728.191       275.840463       173.818266     1.586948   \n",
       "1  37500    715.578       272.171813       175.668301     1.549351   \n",
       "2  37511    718.350       267.039757       179.141937     1.490660   \n",
       "\n",
       "   Eccentricity  ConvexArea  EquivDiameter    Extent  Solidity  roundness  \\\n",
       "0      0.776481       37944     218.509686  0.703406  0.988299   0.888690   \n",
       "1      0.763818       37797     218.509686  0.786229  0.992142   0.920295   \n",
       "2      0.741599       37868     218.541732  0.717365  0.990573   0.913474   \n",
       "\n",
       "   Compactness  ShapeFactor1  ShapeFactor2  ShapeFactor3  ShapeFactor4  \n",
       "0     0.792160      0.007356      0.001787      0.627517      0.995836  \n",
       "1     0.802837      0.007258      0.001860      0.644548      0.998631  \n",
       "2     0.818387      0.007119      0.001970      0.669756      0.998379  "
      ]
     },
     "execution_count": 67,
     "metadata": {},
     "output_type": "execute_result"
    }
   ],
   "source": [
    "test = pd.read_csv('beans-unknown.csv')\n",
    "test.head(3)"
   ]
  },
  {
   "cell_type": "code",
   "execution_count": 68,
   "metadata": {},
   "outputs": [
    {
     "data": {
      "text/html": [
       "<div>\n",
       "<style scoped>\n",
       "    .dataframe tbody tr th:only-of-type {\n",
       "        vertical-align: middle;\n",
       "    }\n",
       "\n",
       "    .dataframe tbody tr th {\n",
       "        vertical-align: top;\n",
       "    }\n",
       "\n",
       "    .dataframe thead th {\n",
       "        text-align: right;\n",
       "    }\n",
       "</style>\n",
       "<table border=\"1\" class=\"dataframe\">\n",
       "  <thead>\n",
       "    <tr style=\"text-align: right;\">\n",
       "      <th></th>\n",
       "      <th>Area</th>\n",
       "      <th>Perimeter</th>\n",
       "      <th>MajorAxisLength</th>\n",
       "      <th>MinorAxisLength</th>\n",
       "      <th>AspectRatio</th>\n",
       "      <th>Eccentricity</th>\n",
       "      <th>ConvexArea</th>\n",
       "      <th>EquivDiameter</th>\n",
       "      <th>Extent</th>\n",
       "      <th>Solidity</th>\n",
       "      <th>roundness</th>\n",
       "      <th>Compactness</th>\n",
       "      <th>ShapeFactor1</th>\n",
       "      <th>ShapeFactor2</th>\n",
       "      <th>ShapeFactor3</th>\n",
       "      <th>ShapeFactor4</th>\n",
       "    </tr>\n",
       "  </thead>\n",
       "  <tbody>\n",
       "    <tr>\n",
       "      <th>0</th>\n",
       "      <td>-1.210167</td>\n",
       "      <td>1.400528</td>\n",
       "      <td>1.669933</td>\n",
       "      <td>-1.592466</td>\n",
       "      <td>1.643560</td>\n",
       "      <td>1.603313</td>\n",
       "      <td>0.655770</td>\n",
       "      <td>-1.210169</td>\n",
       "      <td>-1.393678</td>\n",
       "      <td>-0.808631</td>\n",
       "      <td>-1.409751</td>\n",
       "      <td>-1.658083</td>\n",
       "      <td>1.668114</td>\n",
       "      <td>-1.647227</td>\n",
       "      <td>-1.652531</td>\n",
       "      <td>-1.863595</td>\n",
       "    </tr>\n",
       "    <tr>\n",
       "      <th>1</th>\n",
       "      <td>-1.210167</td>\n",
       "      <td>-1.279132</td>\n",
       "      <td>0.428741</td>\n",
       "      <td>-0.574199</td>\n",
       "      <td>0.490283</td>\n",
       "      <td>0.527208</td>\n",
       "      <td>-1.639425</td>\n",
       "      <td>-1.210169</td>\n",
       "      <td>0.793939</td>\n",
       "      <td>1.585230</td>\n",
       "      <td>1.272624</td>\n",
       "      <td>-0.446369</td>\n",
       "      <td>0.441809</td>\n",
       "      <td>-0.455052</td>\n",
       "      <td>-0.451837</td>\n",
       "      <td>0.940218</td>\n",
       "    </tr>\n",
       "    <tr>\n",
       "      <th>2</th>\n",
       "      <td>0.541390</td>\n",
       "      <td>-0.690215</td>\n",
       "      <td>-1.307557</td>\n",
       "      <td>1.337707</td>\n",
       "      <td>-1.310044</td>\n",
       "      <td>-1.360985</td>\n",
       "      <td>-0.530861</td>\n",
       "      <td>0.541415</td>\n",
       "      <td>-1.024995</td>\n",
       "      <td>0.607604</td>\n",
       "      <td>0.693712</td>\n",
       "      <td>1.318173</td>\n",
       "      <td>-1.299832</td>\n",
       "      <td>1.333936</td>\n",
       "      <td>1.325410</td>\n",
       "      <td>0.688126</td>\n",
       "    </tr>\n",
       "  </tbody>\n",
       "</table>\n",
       "</div>"
      ],
      "text/plain": [
       "       Area  Perimeter  MajorAxisLength  MinorAxisLength  AspectRatio  \\\n",
       "0 -1.210167   1.400528         1.669933        -1.592466     1.643560   \n",
       "1 -1.210167  -1.279132         0.428741        -0.574199     0.490283   \n",
       "2  0.541390  -0.690215        -1.307557         1.337707    -1.310044   \n",
       "\n",
       "   Eccentricity  ConvexArea  EquivDiameter    Extent  Solidity  roundness  \\\n",
       "0      1.603313    0.655770      -1.210169 -1.393678 -0.808631  -1.409751   \n",
       "1      0.527208   -1.639425      -1.210169  0.793939  1.585230   1.272624   \n",
       "2     -1.360985   -0.530861       0.541415 -1.024995  0.607604   0.693712   \n",
       "\n",
       "   Compactness  ShapeFactor1  ShapeFactor2  ShapeFactor3  ShapeFactor4  \n",
       "0    -1.658083      1.668114     -1.647227     -1.652531     -1.863595  \n",
       "1    -0.446369      0.441809     -0.455052     -0.451837      0.940218  \n",
       "2     1.318173     -1.299832      1.333936      1.325410      0.688126  "
      ]
     },
     "execution_count": 68,
     "metadata": {},
     "output_type": "execute_result"
    }
   ],
   "source": [
    "# scaling features\n",
    "\n",
    "from sklearn.preprocessing import StandardScaler, RobustScaler, MinMaxScaler, PowerTransformer\n",
    "\n",
    "\n",
    "columns_need_to_be_scaled = test.columns\n",
    "\n",
    "SS = StandardScaler().fit(test[columns_need_to_be_scaled])\n",
    "\n",
    "test[columns_need_to_be_scaled] = pd.DataFrame(SS.transform(test[columns_need_to_be_scaled]), \n",
    "                                                   columns=columns_need_to_be_scaled)\n",
    "\n",
    "test.head(3)"
   ]
  },
  {
   "cell_type": "code",
   "execution_count": 69,
   "metadata": {},
   "outputs": [],
   "source": [
    "X = test.to_numpy()"
   ]
  },
  {
   "cell_type": "code",
   "execution_count": 70,
   "metadata": {},
   "outputs": [],
   "source": [
    "X = torch.Tensor(X).float()"
   ]
  },
  {
   "cell_type": "code",
   "execution_count": 71,
   "metadata": {},
   "outputs": [],
   "source": [
    "out = model(X)"
   ]
  },
  {
   "cell_type": "code",
   "execution_count": 72,
   "metadata": {},
   "outputs": [],
   "source": [
    "(values, prediction) = torch.max(out.data, dim = 1)"
   ]
  },
  {
   "cell_type": "code",
   "execution_count": 73,
   "metadata": {},
   "outputs": [
    {
     "data": {
      "text/plain": [
       "tensor([4, 3, 5, 5, 5])"
      ]
     },
     "execution_count": 73,
     "metadata": {},
     "output_type": "execute_result"
    }
   ],
   "source": [
    "prediction"
   ]
  },
  {
   "cell_type": "code",
   "execution_count": 77,
   "metadata": {},
   "outputs": [],
   "source": [
    "import numpy as np\n",
    "pre = []\n",
    "pre = np.array(pre)\n",
    "for i in prediction:\n",
    "    if i == 0:\n",
    "        i = 'BARBUNYA'\n",
    "    elif i == 1: \n",
    "        i = 'BOMBAY'\n",
    "    elif i == 2: \n",
    "        i = 'CALI'\n",
    "    elif i == 3: \n",
    "        i = 'DERMASON'\n",
    "    elif i == 4: \n",
    "        i = 'HOROZ'\n",
    "    elif i == 5:\n",
    "        i = 'SEKER'\n",
    "    elif i == 6:\n",
    "        i = 'SIRA'\n",
    "    pre = np.append(pre, [i])"
   ]
  },
  {
   "cell_type": "code",
   "execution_count": 79,
   "metadata": {},
   "outputs": [
    {
     "data": {
      "text/plain": [
       "5"
      ]
     },
     "execution_count": 79,
     "metadata": {},
     "output_type": "execute_result"
    }
   ],
   "source": [
    "len(pre)"
   ]
  },
  {
   "cell_type": "code",
   "execution_count": 82,
   "metadata": {},
   "outputs": [],
   "source": [
    "prediction = pd.Series(pre)"
   ]
  },
  {
   "cell_type": "code",
   "execution_count": 83,
   "metadata": {},
   "outputs": [
    {
     "data": {
      "text/plain": [
       "0       HOROZ\n",
       "1    DERMASON\n",
       "2       SEKER\n",
       "3       SEKER\n",
       "4       SEKER\n",
       "dtype: object"
      ]
     },
     "execution_count": 83,
     "metadata": {},
     "output_type": "execute_result"
    }
   ],
   "source": [
    "prediction"
   ]
  },
  {
   "cell_type": "code",
   "execution_count": 84,
   "metadata": {},
   "outputs": [],
   "source": [
    "test['Predicted Class'] = prediction"
   ]
  },
  {
   "cell_type": "code",
   "execution_count": 85,
   "metadata": {},
   "outputs": [
    {
     "data": {
      "text/html": [
       "<div>\n",
       "<style scoped>\n",
       "    .dataframe tbody tr th:only-of-type {\n",
       "        vertical-align: middle;\n",
       "    }\n",
       "\n",
       "    .dataframe tbody tr th {\n",
       "        vertical-align: top;\n",
       "    }\n",
       "\n",
       "    .dataframe thead th {\n",
       "        text-align: right;\n",
       "    }\n",
       "</style>\n",
       "<table border=\"1\" class=\"dataframe\">\n",
       "  <thead>\n",
       "    <tr style=\"text-align: right;\">\n",
       "      <th></th>\n",
       "      <th>Area</th>\n",
       "      <th>Perimeter</th>\n",
       "      <th>MajorAxisLength</th>\n",
       "      <th>MinorAxisLength</th>\n",
       "      <th>AspectRatio</th>\n",
       "      <th>Eccentricity</th>\n",
       "      <th>ConvexArea</th>\n",
       "      <th>EquivDiameter</th>\n",
       "      <th>Extent</th>\n",
       "      <th>Solidity</th>\n",
       "      <th>roundness</th>\n",
       "      <th>Compactness</th>\n",
       "      <th>ShapeFactor1</th>\n",
       "      <th>ShapeFactor2</th>\n",
       "      <th>ShapeFactor3</th>\n",
       "      <th>ShapeFactor4</th>\n",
       "      <th>Predicted Class</th>\n",
       "    </tr>\n",
       "  </thead>\n",
       "  <tbody>\n",
       "    <tr>\n",
       "      <th>0</th>\n",
       "      <td>-1.210167</td>\n",
       "      <td>1.400528</td>\n",
       "      <td>1.669933</td>\n",
       "      <td>-1.592466</td>\n",
       "      <td>1.643560</td>\n",
       "      <td>1.603313</td>\n",
       "      <td>0.655770</td>\n",
       "      <td>-1.210169</td>\n",
       "      <td>-1.393678</td>\n",
       "      <td>-0.808631</td>\n",
       "      <td>-1.409751</td>\n",
       "      <td>-1.658083</td>\n",
       "      <td>1.668114</td>\n",
       "      <td>-1.647227</td>\n",
       "      <td>-1.652531</td>\n",
       "      <td>-1.863595</td>\n",
       "      <td>HOROZ</td>\n",
       "    </tr>\n",
       "    <tr>\n",
       "      <th>1</th>\n",
       "      <td>-1.210167</td>\n",
       "      <td>-1.279132</td>\n",
       "      <td>0.428741</td>\n",
       "      <td>-0.574199</td>\n",
       "      <td>0.490283</td>\n",
       "      <td>0.527208</td>\n",
       "      <td>-1.639425</td>\n",
       "      <td>-1.210169</td>\n",
       "      <td>0.793939</td>\n",
       "      <td>1.585230</td>\n",
       "      <td>1.272624</td>\n",
       "      <td>-0.446369</td>\n",
       "      <td>0.441809</td>\n",
       "      <td>-0.455052</td>\n",
       "      <td>-0.451837</td>\n",
       "      <td>0.940218</td>\n",
       "      <td>DERMASON</td>\n",
       "    </tr>\n",
       "    <tr>\n",
       "      <th>2</th>\n",
       "      <td>0.541390</td>\n",
       "      <td>-0.690215</td>\n",
       "      <td>-1.307557</td>\n",
       "      <td>1.337707</td>\n",
       "      <td>-1.310044</td>\n",
       "      <td>-1.360985</td>\n",
       "      <td>-0.530861</td>\n",
       "      <td>0.541415</td>\n",
       "      <td>-1.024995</td>\n",
       "      <td>0.607604</td>\n",
       "      <td>0.693712</td>\n",
       "      <td>1.318173</td>\n",
       "      <td>-1.299832</td>\n",
       "      <td>1.333936</td>\n",
       "      <td>1.325410</td>\n",
       "      <td>0.688126</td>\n",
       "      <td>SEKER</td>\n",
       "    </tr>\n",
       "    <tr>\n",
       "      <th>3</th>\n",
       "      <td>0.859855</td>\n",
       "      <td>-0.333720</td>\n",
       "      <td>-0.444881</td>\n",
       "      <td>0.439992</td>\n",
       "      <td>-0.449276</td>\n",
       "      <td>-0.423925</td>\n",
       "      <td>1.233472</td>\n",
       "      <td>0.859851</td>\n",
       "      <td>0.643799</td>\n",
       "      <td>-1.195077</td>\n",
       "      <td>0.336891</td>\n",
       "      <td>0.442221</td>\n",
       "      <td>-0.452559</td>\n",
       "      <td>0.434216</td>\n",
       "      <td>0.438891</td>\n",
       "      <td>0.383911</td>\n",
       "      <td>SEKER</td>\n",
       "    </tr>\n",
       "    <tr>\n",
       "      <th>4</th>\n",
       "      <td>1.019088</td>\n",
       "      <td>0.902540</td>\n",
       "      <td>-0.346237</td>\n",
       "      <td>0.388967</td>\n",
       "      <td>-0.374523</td>\n",
       "      <td>-0.345611</td>\n",
       "      <td>0.281044</td>\n",
       "      <td>1.019072</td>\n",
       "      <td>0.980934</td>\n",
       "      <td>-0.189126</td>\n",
       "      <td>-0.893476</td>\n",
       "      <td>0.344058</td>\n",
       "      <td>-0.357531</td>\n",
       "      <td>0.334126</td>\n",
       "      <td>0.340067</td>\n",
       "      <td>-0.148661</td>\n",
       "      <td>SEKER</td>\n",
       "    </tr>\n",
       "  </tbody>\n",
       "</table>\n",
       "</div>"
      ],
      "text/plain": [
       "       Area  Perimeter  MajorAxisLength  MinorAxisLength  AspectRatio  \\\n",
       "0 -1.210167   1.400528         1.669933        -1.592466     1.643560   \n",
       "1 -1.210167  -1.279132         0.428741        -0.574199     0.490283   \n",
       "2  0.541390  -0.690215        -1.307557         1.337707    -1.310044   \n",
       "3  0.859855  -0.333720        -0.444881         0.439992    -0.449276   \n",
       "4  1.019088   0.902540        -0.346237         0.388967    -0.374523   \n",
       "\n",
       "   Eccentricity  ConvexArea  EquivDiameter    Extent  Solidity  roundness  \\\n",
       "0      1.603313    0.655770      -1.210169 -1.393678 -0.808631  -1.409751   \n",
       "1      0.527208   -1.639425      -1.210169  0.793939  1.585230   1.272624   \n",
       "2     -1.360985   -0.530861       0.541415 -1.024995  0.607604   0.693712   \n",
       "3     -0.423925    1.233472       0.859851  0.643799 -1.195077   0.336891   \n",
       "4     -0.345611    0.281044       1.019072  0.980934 -0.189126  -0.893476   \n",
       "\n",
       "   Compactness  ShapeFactor1  ShapeFactor2  ShapeFactor3  ShapeFactor4  \\\n",
       "0    -1.658083      1.668114     -1.647227     -1.652531     -1.863595   \n",
       "1    -0.446369      0.441809     -0.455052     -0.451837      0.940218   \n",
       "2     1.318173     -1.299832      1.333936      1.325410      0.688126   \n",
       "3     0.442221     -0.452559      0.434216      0.438891      0.383911   \n",
       "4     0.344058     -0.357531      0.334126      0.340067     -0.148661   \n",
       "\n",
       "  Predicted Class  \n",
       "0           HOROZ  \n",
       "1        DERMASON  \n",
       "2           SEKER  \n",
       "3           SEKER  \n",
       "4           SEKER  "
      ]
     },
     "execution_count": 85,
     "metadata": {},
     "output_type": "execute_result"
    }
   ],
   "source": [
    "test.head(10)"
   ]
  },
  {
   "cell_type": "markdown",
   "metadata": {},
   "source": [
    "## How do the results with the artificial neural network compare to the support vector machine model?"
   ]
  },
  {
   "cell_type": "markdown",
   "metadata": {},
   "source": [
    "The Random Forest Classifier had a better accuracy (94.16%) when compared to the ANN model (73.03%)"
   ]
  }
 ],
 "metadata": {
  "kernelspec": {
   "display_name": "Python 3 (3.6.5)",
   "language": "python",
   "name": "python3"
  },
  "language_info": {
   "codemirror_mode": {
    "name": "ipython",
    "version": 3
   },
   "file_extension": ".py",
   "mimetype": "text/x-python",
   "name": "python",
   "nbconvert_exporter": "python",
   "pygments_lexer": "ipython3",
   "version": "3.6.5"
  }
 },
 "nbformat": 4,
 "nbformat_minor": 2
}
